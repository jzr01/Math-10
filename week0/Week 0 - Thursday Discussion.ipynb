{
 "cells": [
  {
   "cell_type": "markdown",
   "id": "3d3f785a",
   "metadata": {},
   "source": [
    "# Welcome to Math 10! \n",
    "\n",
    "__TA__: Yasmeen Baki <ybaki@gmail.com>\n",
    "\n",
    "__Discussion__: Tuesdays and Thursdays 10:00-10:50am in ALP 3600\n",
    "\n",
    "__Office Hours__: Location and time TBD\n"
   ]
  },
  {
   "cell_type": "markdown",
   "id": "46dbebca",
   "metadata": {},
   "source": [
    "***\n",
    "# Jupyter Notebook Basics\n",
    "- All work in Jupyter takes place in cells\n",
    "- The two main types of cells we will use are Markdown cells and Code cells \n",
    "    - Markdown cells are used for text and explanations; this is an example of a Markdown cell\n",
    "    - Code cells are where you will write your Python code\n",
    "\n",
    "\n",
    "    \n",
    "## <font color = blue> Question 1 (A) </font>\n",
    "Create a new markdown cell by pressing on this cell and then clicking __Escape__. Press __b__ to create a new cell below, and then press __m__ to change it to a markdown cell. Press __Enter__ to edit the cell, and write a short self-introduction. Press __Command + Enter__ (__Ctrl + Enter__) to evaluate the cell."
   ]
  },
  {
   "cell_type": "markdown",
   "id": "7220f77f",
   "metadata": {},
   "source": [
    "Hi this Zhengran Ji. I am a thrid year math and data sceince major. I love doing sports and reading books. "
   ]
  },
  {
   "cell_type": "markdown",
   "id": "f508124f",
   "metadata": {},
   "source": [
    "## Some Shorcuts\n",
    "Jupyter has many keyboard shortcuts that will make your life easier. Here are a few of the most important:\n",
    "\n",
    "- Press __Escape__ to switch to command mode and __Enter__ to switch to edit mode\n",
    "- While in command mode, pressing __b__ inserts a cell below, while pressing __a__ inserts a cell above\n",
    "- While in command mode, pressing __m__ or __y__ toggles between markdown and code cells, respectively\n",
    "- Pressing __Command + Enter__ (__Ctrl + Enter__) runs a cell, while presseing __Option + Enter__ (__Alt + Enter__) runs a cell *and* inserts a new cell below\n",
    "- Arrow keys can be used to switch between cells; pressing __d + d__ will delete a selected cell, and pressing __z__ will restore the deleted cell; __x__, __c__, and __v__ are used to cut, copy, and paste cells, respectively\n",
    "- More shortcuts can be found [here](https://www.edureka.co/blog/wp-content/uploads/2018/10/Jupyter_Notebook_CheatSheet_Edureka.pdf)\n",
    "\n",
    "## <font color = blue> Question 1 (B) </font>\n",
    "\n",
    "Use only keyboard shortcuts to do the following. Create a new code cell, and evaluate 5 + 5 using __Option + Enter__ (__Alt + Enter__). Delete the new input cell that is created. Copy the cell that has your self-introduction and paste it below.\n",
    "\n"
   ]
  },
  {
   "cell_type": "code",
   "execution_count": 10,
   "id": "25c0e921",
   "metadata": {},
   "outputs": [
    {
     "data": {
      "text/plain": [
       "10"
      ]
     },
     "execution_count": 10,
     "metadata": {},
     "output_type": "execute_result"
    }
   ],
   "source": [
    "5+5"
   ]
  },
  {
   "cell_type": "markdown",
   "id": "559bcc45",
   "metadata": {},
   "source": [
    "***\n",
    "# Data Types in Python\n",
    "\n",
    "## <font color = blue> Question 2 </font>\n",
    "Complete the cell below so that each variable is assigned to the indicated data type. In a new cell, verify that each variable is the correct type by using __type()__."
   ]
  },
  {
   "cell_type": "code",
   "execution_count": 11,
   "id": "7faea612",
   "metadata": {},
   "outputs": [],
   "source": [
    "#integer\n",
    "a =  10\n",
    "\n",
    "#float\n",
    "b =1.1\n",
    "\n",
    "#string\n",
    "c = 'Zhengran Ji'\n",
    "\n",
    "#list\n",
    "d = [1,2,3,4]\n",
    "\n",
    "#tuple\n",
    "e = (1,2,3,4)"
   ]
  },
  {
   "cell_type": "code",
   "execution_count": 12,
   "id": "ce16f290",
   "metadata": {},
   "outputs": [
    {
     "data": {
      "text/plain": [
       "list"
      ]
     },
     "execution_count": 12,
     "metadata": {},
     "output_type": "execute_result"
    }
   ],
   "source": [
    "type(d)"
   ]
  },
  {
   "cell_type": "code",
   "execution_count": 13,
   "id": "8eb5656d",
   "metadata": {},
   "outputs": [
    {
     "data": {
      "text/plain": [
       "tuple"
      ]
     },
     "execution_count": 13,
     "metadata": {},
     "output_type": "execute_result"
    }
   ],
   "source": [
    "type(e)"
   ]
  },
  {
   "cell_type": "markdown",
   "id": "c0890298",
   "metadata": {},
   "source": [
    "***\n",
    "# Importing\n",
    "\n",
    "Oftentimes we need to import libraries or modules that are not included with Python by default. Math 10 will make extensive use of the NumPy library, for example. Start by taking a look at some of the examples below. _Disclaimer: We will not work much with the math module in Math 10. The following examples are to help you learn the syntax for importing_."
   ]
  },
  {
   "cell_type": "code",
   "execution_count": 1,
   "id": "b8339a39",
   "metadata": {},
   "outputs": [],
   "source": [
    "# This command imports the entire math module\n",
    "import math"
   ]
  },
  {
   "cell_type": "code",
   "execution_count": 2,
   "id": "ea97f6b5",
   "metadata": {},
   "outputs": [],
   "source": [
    "# The math module contains many functions, but perhaps we need just a few of them\n",
    "# Here we just import the sine and cosine functions.\n",
    "from math import sin,cos"
   ]
  },
  {
   "cell_type": "code",
   "execution_count": 3,
   "id": "46d96c3d",
   "metadata": {},
   "outputs": [],
   "source": [
    "# It can be tedious to write math.function() every time we need it\n",
    "# Here we give the math module our own name \n",
    "import math as m"
   ]
  },
  {
   "cell_type": "code",
   "execution_count": 4,
   "id": "69ad58d2",
   "metadata": {},
   "outputs": [
    {
     "data": {
      "text/plain": [
       "0.0"
      ]
     },
     "execution_count": 4,
     "metadata": {},
     "output_type": "execute_result"
    }
   ],
   "source": [
    "m.sin(0)"
   ]
  },
  {
   "cell_type": "code",
   "execution_count": 45,
   "id": "ba6f9c3d",
   "metadata": {},
   "outputs": [
    {
     "data": {
      "text/plain": [
       "1.0"
      ]
     },
     "execution_count": 45,
     "metadata": {},
     "output_type": "execute_result"
    }
   ],
   "source": [
    "m.cos(0)"
   ]
  },
  {
   "cell_type": "markdown",
   "id": "76729926",
   "metadata": {},
   "source": [
    "<font color = red> *Warning*: You typically do not want to come up with your own name for modules and libraries. The above is meant to show syntax. All of the libraries we will use have widely accepted names. These names should be used to ensure readability of your code. </font>"
   ]
  },
  {
   "cell_type": "markdown",
   "id": "92f1491c",
   "metadata": {},
   "source": [
    "## <font color = blue> Question 3 </font>\n",
    "Import the numpy library as `np`. This is considered the conventional name, and using it makes it easier for others to read and understand your code."
   ]
  },
  {
   "cell_type": "code",
   "execution_count": 5,
   "id": "6795d2a3",
   "metadata": {},
   "outputs": [],
   "source": [
    "import numpy as np"
   ]
  },
  {
   "cell_type": "markdown",
   "id": "b21edaa7",
   "metadata": {},
   "source": [
    "***\n",
    "# Lists and List-like Data Structures\n",
    "\n",
    "We previously saw an example of a list. What about a range? Evaluate the following cells."
   ]
  },
  {
   "cell_type": "code",
   "execution_count": 6,
   "id": "c1827d1b",
   "metadata": {},
   "outputs": [
    {
     "data": {
      "text/plain": [
       "range(3, 10)"
      ]
     },
     "execution_count": 6,
     "metadata": {},
     "output_type": "execute_result"
    }
   ],
   "source": [
    "range(3,10)"
   ]
  },
  {
   "cell_type": "code",
   "execution_count": 7,
   "id": "afce1a36",
   "metadata": {},
   "outputs": [
    {
     "data": {
      "text/plain": [
       "[3, 4, 5, 6, 7, 8, 9]"
      ]
     },
     "execution_count": 7,
     "metadata": {},
     "output_type": "execute_result"
    }
   ],
   "source": [
    "list(range(3,10)) #Notice that the right endpoint is not included here! This is common in Python."
   ]
  },
  {
   "cell_type": "code",
   "execution_count": 8,
   "id": "f815f8cb",
   "metadata": {},
   "outputs": [
    {
     "data": {
      "text/plain": [
       "range"
      ]
     },
     "execution_count": 8,
     "metadata": {},
     "output_type": "execute_result"
    }
   ],
   "source": [
    "type(range(3,10))"
   ]
  },
  {
   "cell_type": "markdown",
   "id": "eb57ed3e",
   "metadata": {},
   "source": [
    "<font color = red> Food for thought: why does range exist as its own data type? Why not just use a list? </font>"
   ]
  },
  {
   "cell_type": "markdown",
   "id": "41214b91",
   "metadata": {},
   "source": [
    "## <font color = blue> Question 4 (A) </font>\n",
    "Learn more about range by typing `help(range)`. You can also learn more about range by typing `range?` (The question mark is specific to Jupyter.) After reading the documentation, create a range object that starts at 5, does not go past 10, and has a step size of 2.\n",
    "\n",
    "<font color = red> Tip: Don't worry if reading documentation feels confusing, this is normal. Try to at least read the first few lines. </font>"
   ]
  },
  {
   "cell_type": "markdown",
   "id": "de8d0273",
   "metadata": {},
   "source": [
    "Let us now take a look at some NumPy specific structures. Notice that the following produces something very similar to range."
   ]
  },
  {
   "cell_type": "code",
   "execution_count": 63,
   "id": "923ee10a",
   "metadata": {},
   "outputs": [
    {
     "data": {
      "text/plain": [
       "array([3, 4, 5, 6, 7, 8, 9])"
      ]
     },
     "execution_count": 63,
     "metadata": {},
     "output_type": "execute_result"
    }
   ],
   "source": [
    "np.arange(3,10)"
   ]
  },
  {
   "cell_type": "code",
   "execution_count": 65,
   "id": "0422b7f0",
   "metadata": {},
   "outputs": [
    {
     "data": {
      "text/plain": [
       "array([3. , 3.5, 4. , 4.5, 5. , 5.5, 6. , 6.5, 7. , 7.5, 8. , 8.5, 9. ,\n",
       "       9.5])"
      ]
     },
     "execution_count": 65,
     "metadata": {},
     "output_type": "execute_result"
    }
   ],
   "source": [
    "np.arange(3,10,0.5)"
   ]
  },
  {
   "cell_type": "markdown",
   "id": "0ded6964",
   "metadata": {},
   "source": [
    "## <font color = blue> Question 4 (B) </font>\n",
    "Try evaluating `range(3,10,0.5)`. Why do you get an error? Notice that we do not get an error if we try `np.arange(3,10,0.5)`."
   ]
  },
  {
   "cell_type": "code",
   "execution_count": 15,
   "id": "01381816",
   "metadata": {},
   "outputs": [
    {
     "ename": "TypeError",
     "evalue": "'float' object cannot be interpreted as an integer",
     "output_type": "error",
     "traceback": [
      "\u001b[1;31m---------------------------------------------------------------------------\u001b[0m",
      "\u001b[1;31mTypeError\u001b[0m                                 Traceback (most recent call last)",
      "\u001b[1;32m<ipython-input-15-bfc6041552dc>\u001b[0m in \u001b[0;36m<module>\u001b[1;34m\u001b[0m\n\u001b[1;32m----> 1\u001b[1;33m \u001b[0mrange\u001b[0m\u001b[1;33m(\u001b[0m\u001b[1;36m3\u001b[0m\u001b[1;33m,\u001b[0m\u001b[1;36m10\u001b[0m\u001b[1;33m,\u001b[0m\u001b[1;36m0.5\u001b[0m\u001b[1;33m)\u001b[0m\u001b[1;33m\u001b[0m\u001b[1;33m\u001b[0m\u001b[0m\n\u001b[0m",
      "\u001b[1;31mTypeError\u001b[0m: 'float' object cannot be interpreted as an integer"
     ]
    }
   ],
   "source": [
    "range(3,10,0.5)"
   ]
  },
  {
   "cell_type": "code",
   "execution_count": 16,
   "id": "427dc395",
   "metadata": {},
   "outputs": [
    {
     "data": {
      "text/plain": [
       "array([3. , 3.5, 4. , 4.5, 5. , 5.5, 6. , 6.5, 7. , 7.5, 8. , 8.5, 9. ,\n",
       "       9.5])"
      ]
     },
     "execution_count": 16,
     "metadata": {},
     "output_type": "execute_result"
    }
   ],
   "source": [
    "np.arange(3,10,0.5)"
   ]
  },
  {
   "cell_type": "markdown",
   "id": "1299fec0",
   "metadata": {},
   "source": [
    "## <font color= blue> Question 4 (C) </font>\n",
    "Using the help commands you learned above, get information about np.linspace(). Does it remind you of anything you have seen before (perhaps in Math 9)? When would it be better to use np.linspace() over np.arange()?"
   ]
  },
  {
   "cell_type": "code",
   "execution_count": 17,
   "id": "5a44d9f1",
   "metadata": {},
   "outputs": [
    {
     "data": {
      "text/plain": [
       "array([ 0.,  5., 10.])"
      ]
     },
     "execution_count": 17,
     "metadata": {},
     "output_type": "execute_result"
    }
   ],
   "source": [
    "np.linspace(0,10,3)"
   ]
  },
  {
   "cell_type": "markdown",
   "id": "d9cb7708",
   "metadata": {},
   "source": [
    "linspace is better when we wanna divide a gievn space into specific many pieces."
   ]
  },
  {
   "cell_type": "markdown",
   "id": "cc94edab",
   "metadata": {},
   "source": [
    "## <font color = blue> Question 4 (D)</font>\n",
    "<a id='Q4'></a>\n",
    "Again using the help commands, learn about `np.array()`. Define a variable `r` and set it equal to a range of your choice. Create the following variables so that `r` is converted the the corresponding data types. Check that each variable is the correct data type using `type()`.\n"
   ]
  },
  {
   "cell_type": "code",
   "execution_count": 21,
   "id": "72426e59",
   "metadata": {},
   "outputs": [
    {
     "data": {
      "text/plain": [
       "range"
      ]
     },
     "execution_count": 21,
     "metadata": {},
     "output_type": "execute_result"
    }
   ],
   "source": [
    "r = range(1,10)"
   ]
  },
  {
   "cell_type": "code",
   "execution_count": 24,
   "id": "f1a7195e",
   "metadata": {},
   "outputs": [
    {
     "name": "stdout",
     "output_type": "stream",
     "text": [
      "<class 'list'>\n",
      "<class 'tuple'>\n",
      "<class 'set'>\n",
      "<class 'numpy.ndarray'>\n"
     ]
    }
   ],
   "source": [
    "r_list = list(r)\n",
    "r_tuple = tuple(r_list)\n",
    "r_set = set(r_list)\n",
    "r_array = np.array(r_list) \n",
    "print(type(r_list))\n",
    "print(type(r_tuple))\n",
    "print(type(r_set))\n",
    "print(type(r_array))"
   ]
  },
  {
   "cell_type": "markdown",
   "id": "35a73742",
   "metadata": {},
   "source": [
    "The following code shows some exampls of operations that we can perform on lists and list-like objects.\n"
   ]
  },
  {
   "cell_type": "code",
   "execution_count": 25,
   "id": "2dfcbda4",
   "metadata": {},
   "outputs": [
    {
     "data": {
      "text/plain": [
       "1"
      ]
     },
     "execution_count": 25,
     "metadata": {},
     "output_type": "execute_result"
    }
   ],
   "source": [
    "r[0] #r[n] means to return the nth element of r. Warning: indexing starts at 0!"
   ]
  },
  {
   "cell_type": "code",
   "execution_count": 26,
   "id": "57c5126a",
   "metadata": {},
   "outputs": [
    {
     "data": {
      "text/plain": [
       "9"
      ]
     },
     "execution_count": 26,
     "metadata": {},
     "output_type": "execute_result"
    }
   ],
   "source": [
    "len(r) #Returns the length of r"
   ]
  },
  {
   "cell_type": "code",
   "execution_count": 27,
   "id": "a4115235",
   "metadata": {},
   "outputs": [
    {
     "data": {
      "text/plain": [
       "True"
      ]
     },
     "execution_count": 27,
     "metadata": {},
     "output_type": "execute_result"
    }
   ],
   "source": [
    "5 in r #Checks whether or not 5 is an element of r"
   ]
  },
  {
   "cell_type": "markdown",
   "id": "8a792f29",
   "metadata": {},
   "source": [
    "# Jupyter Magic Commands and Timing\n",
    "\n",
    "There are a number of Jupyter-specific commands known as \"magics\". They are called using `%`, and a number of examples are given at [this link](https://www.edureka.co/blog/wp-content/uploads/2018/10/Jupyter_Notebook_CheatSheet_Edureka.pdf). Below we consider `%time` and `%timeit`. "
   ]
  },
  {
   "cell_type": "code",
   "execution_count": 76,
   "id": "c6709d5b",
   "metadata": {},
   "outputs": [
    {
     "name": "stdout",
     "output_type": "stream",
     "text": [
      "CPU times: user 3 µs, sys: 1 µs, total: 4 µs\n",
      "Wall time: 5.96 µs\n"
     ]
    },
    {
     "data": {
      "text/plain": [
       "True"
      ]
     },
     "execution_count": 76,
     "metadata": {},
     "output_type": "execute_result"
    }
   ],
   "source": [
    "%time 5 in r_list"
   ]
  },
  {
   "cell_type": "code",
   "execution_count": 81,
   "id": "da378993",
   "metadata": {},
   "outputs": [
    {
     "name": "stdout",
     "output_type": "stream",
     "text": [
      "90.7 ns ± 2.97 ns per loop (mean ± std. dev. of 7 runs, 10000000 loops each)\n"
     ]
    }
   ],
   "source": [
    "%timeit 5 in r_list"
   ]
  },
  {
   "cell_type": "markdown",
   "id": "578807f3",
   "metadata": {},
   "source": [
    "In general, using `%timeit` is more accurate. `%time` runs a piece of code once, and the timing might be inaccurate due to background processes of your computer. `%timeit` repeats the code multiple times and typically\n",
    "returns a more reliable result."
   ]
  },
  {
   "cell_type": "markdown",
   "id": "e83c8942",
   "metadata": {},
   "source": [
    "## <font color = blue> Question 5 (A) </font>\n",
    "\n",
    "For each of the variables in [Question 4 (D)](#Q4), use `%timeit` and check whether or not 5 is contained in the data structure. Which structure takes the least amount of time to check?\n",
    "\n",
    "_Bonus_: Try to create the largest range/list/tuple/set/array possible such that checking whether or not it contains 5 takes about 1 millisecond."
   ]
  },
  {
   "cell_type": "code",
   "execution_count": 30,
   "id": "8285ba66",
   "metadata": {},
   "outputs": [
    {
     "name": "stdout",
     "output_type": "stream",
     "text": [
      "94.6 ns ± 7.34 ns per loop (mean ± std. dev. of 7 runs, 10000000 loops each)\n",
      "82.4 ns ± 1.42 ns per loop (mean ± std. dev. of 7 runs, 10000000 loops each)\n",
      "43.8 ns ± 0.604 ns per loop (mean ± std. dev. of 7 runs, 10000000 loops each)\n",
      "1.96 µs ± 65.9 ns per loop (mean ± std. dev. of 7 runs, 1000000 loops each)\n"
     ]
    }
   ],
   "source": [
    "%timeit 5 in r_list\n",
    "%timeit 5 in r_tuple\n",
    "%timeit 5 in r_set\n",
    "%timeit 5 in r_array"
   ]
  },
  {
   "cell_type": "markdown",
   "id": "11f4e2d7",
   "metadata": {},
   "source": [
    "## <font color = blue> Question 5 (B) </font>\n",
    "Take a look at the cell below and answer the following question. Say you have a list and want to know if an element is in it. Why is converting the list to a set, and then checking in the set not the best idea?"
   ]
  },
  {
   "cell_type": "code",
   "execution_count": 82,
   "id": "8849b651",
   "metadata": {},
   "outputs": [
    {
     "name": "stdout",
     "output_type": "stream",
     "text": [
      "772 ns ± 3.74 ns per loop (mean ± std. dev. of 7 runs, 1000000 loops each)\n"
     ]
    }
   ],
   "source": [
    "%timeit set(r_list)"
   ]
  },
  {
   "cell_type": "markdown",
   "id": "5f8ed079",
   "metadata": {},
   "source": [
    "It takes a lot more time than directly checking it in a list even though there might be duplicates. "
   ]
  }
 ],
 "metadata": {
  "kernelspec": {
   "display_name": "Python 3",
   "language": "python",
   "name": "python3"
  },
  "language_info": {
   "codemirror_mode": {
    "name": "ipython",
    "version": 3
   },
   "file_extension": ".py",
   "mimetype": "text/x-python",
   "name": "python",
   "nbconvert_exporter": "python",
   "pygments_lexer": "ipython3",
   "version": "3.8.8"
  }
 },
 "nbformat": 4,
 "nbformat_minor": 5
}

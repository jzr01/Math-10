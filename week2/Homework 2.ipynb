{
 "cells": [
  {
   "cell_type": "markdown",
   "id": "e0d0f8dc",
   "metadata": {},
   "source": [
    "# UCI Math 10, Fall 2021\n",
    "\n",
    "# Homework 2: Prime numbers, Random numbers, and Intro to pandas\n",
    "\n",
    "To get full credit on this (and every) homework, the notebook needs to be well-organized, containing all these cells it started with, and only what is needed for you to answer the questions.\n",
    "\n",
    "You may submit this homework in a group of 1-3 total students.\n",
    "\n",
    "**Suggestion**.  Make a copy of this notebook, do your work in the copy, and then put your final answers in the original.\n",
    "\n",
    "**Due date**.  Due at 11:30am on Friday of Week 2, October 8th.\n",
    "\n",
    "<p style=\"font-size:20px; color:blue; font-weight:bold\">Question 0:</p>\n",
    "\n",
    "Name(s): Zhengran Ji\n",
    "\n",
    "UCI ID(s): 87537895"
   ]
  },
  {
   "cell_type": "markdown",
   "id": "e4ef4aeb",
   "metadata": {},
   "source": [
    "## Part 1.  Prime Numbers\n",
    "\n",
    "<p style=\"font-size:20px; color:blue; font-weight:bold\">Question 1:</p>\n",
    "\n",
    "If $a$ and $b$ are integers, you can check if $a$ is divisible by $b$ by computing `a%b`.  If `a%b` is equal to 0, then $a$ is divisible by $b$, otherwise, $a$ is not divisible by $b$.  Write a function `is_prime` to check if an integer is prime, using the following strategy.  (Don't use a different strategy, even if your other strategy is better!)\n",
    "\n",
    "* The function should take one input.\n",
    "* Use the `isinstance` function to see if the input is an integer.  If it's not, return False.  (We haven't covered this function.  You can learn how it works by using help or ?.)\n",
    "* If the input is strictly less than 2, return False.\n",
    "* Using the `%` operator as described as above, check if the input is prime.  Return True if it's prime, return False otherwise.  (Reminder: an integer $p \\geq 2$ is prime if its only positive divisors are $1$ and $p$.)\n",
    "* Make sure what you are returning has type bool.  (A common beginning programming mistake is to print \"True\" or \"False\", or to return the string \"True\" or the string \"False\".  Neither of those is correct.  You should be returning the Python built-in object True or False with a capital letter and no quotation marks.)"
   ]
  },
  {
   "cell_type": "code",
   "execution_count": 18,
   "id": "fed19bbc",
   "metadata": {},
   "outputs": [
    {
     "data": {
      "text/plain": [
       "False"
      ]
     },
     "execution_count": 18,
     "metadata": {},
     "output_type": "execute_result"
    }
   ],
   "source": [
    "def is_prime(a):\n",
    "    if isinstance(a,int) == False or a == 1:\n",
    "        return False\n",
    "    else:\n",
    "        ans = True\n",
    "        for i in range(2,a):\n",
    "            if a % i == 0:\n",
    "                    ans = False\n",
    "    return ans"
   ]
  },
  {
   "cell_type": "markdown",
   "id": "2f1ba058",
   "metadata": {},
   "source": [
    "<p style=\"font-size:20px; color:blue; font-weight:bold\">Question 2</p>\n",
    "\n",
    "Using a while loop and your is_prime function above, define a list containing the first 100 prime numbers.  (The reason a while loop is natural to use here, is because you want to keep searching until you have found 100 prime numbers.  You don't know in advance how far you need to search.)  Call the list `first_primes`."
   ]
  },
  {
   "cell_type": "code",
   "execution_count": 20,
   "id": "8af4052a",
   "metadata": {},
   "outputs": [],
   "source": [
    "first_primes = []\n",
    "\n",
    "a = 1\n",
    "while len(first_primes) < 100:\n",
    "    if is_prime(a) == True:\n",
    "        first_primes.append(a)\n",
    "    a = a+1"
   ]
  },
  {
   "cell_type": "markdown",
   "id": "7b443fe9",
   "metadata": {},
   "source": [
    "## Part 2.  Random simulation using NumPy\n",
    "\n",
    "The motivating question for the rest of this notebook is the following.\n",
    "\n",
    "*  If you choose three random numbers $0 \\leq x,y,z \\leq 2$, what is the probability that $z > x^2 + y^2$?  \n",
    "\n",
    "The goal of this notebook is to estimate an answer to the above question using NumPy, and then again using pandas.\n",
    "\n",
    "Geometrically, we want to know, if we choose a point in the volume 8 cube $0 \\leq x,y,z \\leq 2$, what is the probability that it lies above the following paraboloid:\n",
    "\n",
    "<img src=\"https://github.com/ChristopherDavisUCI/UCI-Math-10-Davis/blob/main/images/quarter_paraboloid.png?raw=true\">\n",
    "\n",
    "We will estimate a probability to this by choosing random points in this cube, and counting how many of them lie above the paraboloid.  If you want to practice your multivariable calculus skills, try to compute the exact probability (i.e., try to compute the volume of the region of the cube which lies above the paraboloid, and then divide that volume by 8, which is the total volume of the cube)."
   ]
  },
  {
   "cell_type": "markdown",
   "id": "b3f71671",
   "metadata": {},
   "source": [
    "<p style=\"font-size:20px; color:blue; font-weight:bold\">Question 3</p>\n",
    "\n",
    "Using [default_rng](https://numpy.org/doc/stable/reference/random/generator.html#numpy.random.default_rng) in NumPy, create a random number generator in NumPy with the variable name rng.  See the Week 2 video \"Random numbers in NumPy\"."
   ]
  },
  {
   "cell_type": "code",
   "execution_count": 21,
   "id": "961f8461",
   "metadata": {},
   "outputs": [],
   "source": [
    "import numpy as np\n",
    "rng = np.random.default_rng()"
   ]
  },
  {
   "cell_type": "markdown",
   "id": "be0c018d",
   "metadata": {},
   "source": [
    "<p style=\"font-size:20px; color:blue; font-weight:bold\">Question 4:</p>\n",
    "\n",
    "Using `rng.random`, create a $10^7 \\times 3$ NumPy array containing random real numbers between 0 and 2.  (Don't use any loops.  In general, we always want to avoid loops if we can, to make things faster.  `rng.random` takes a `size` input which says which shape we want to produce.)  Name the resulting array `A`.  You should think of each row of this array as corresponding to one experiment, and you should think of the three columns as corresponding to the x-value, the y-value, and the z-value."
   ]
  },
  {
   "cell_type": "code",
   "execution_count": 45,
   "id": "9812037f",
   "metadata": {},
   "outputs": [
    {
     "data": {
      "text/plain": [
       "(10000000, 3)"
      ]
     },
     "execution_count": 45,
     "metadata": {},
     "output_type": "execute_result"
    }
   ],
   "source": [
    "A = 2*rng.random((10**7,3))\n",
    "A.shape"
   ]
  },
  {
   "cell_type": "markdown",
   "id": "d184fa18",
   "metadata": {},
   "source": [
    "<p style=\"font-size:20px; color:blue; font-weight:bold\">Question 5:</p>\n",
    "\n",
    "Count how many rows of A satisfy the property $x^2 + y^2 > z$.  We think of this number as the total number of \"successes\".  Compute \"number of successes\" divided by \"number of experiments\" to get the probability estimate."
   ]
  },
  {
   "cell_type": "code",
   "execution_count": 46,
   "id": "f2029ed6",
   "metadata": {},
   "outputs": [
    {
     "data": {
      "text/plain": [
       "0.8037776"
      ]
     },
     "execution_count": 46,
     "metadata": {},
     "output_type": "execute_result"
    }
   ],
   "source": [
    "x_val = A[:,0]\n",
    "y_val = A[:,1]\n",
    "z_val = A[:,2]\n",
    "B = x_val**2+y_val**2 > z_val\n",
    "len(A[B==True])/len(A)"
   ]
  },
  {
   "cell_type": "markdown",
   "id": "dc1d1434",
   "metadata": {},
   "source": [
    "## Part 3.  The same computation, but using pandas.\n",
    "\n",
    "<p style=\"font-size:20px; color:blue; font-weight:bold\">Question 6:</p>\n",
    "\n",
    "Convert the above array A into a pandas DataFrame.  Name the result `df`.  Give the three columns the names x,y,z (as strings)."
   ]
  },
  {
   "cell_type": "code",
   "execution_count": 47,
   "id": "0fb87381",
   "metadata": {},
   "outputs": [
    {
     "data": {
      "text/html": [
       "<div>\n",
       "<style scoped>\n",
       "    .dataframe tbody tr th:only-of-type {\n",
       "        vertical-align: middle;\n",
       "    }\n",
       "\n",
       "    .dataframe tbody tr th {\n",
       "        vertical-align: top;\n",
       "    }\n",
       "\n",
       "    .dataframe thead th {\n",
       "        text-align: right;\n",
       "    }\n",
       "</style>\n",
       "<table border=\"1\" class=\"dataframe\">\n",
       "  <thead>\n",
       "    <tr style=\"text-align: right;\">\n",
       "      <th></th>\n",
       "      <th>X</th>\n",
       "      <th>Y</th>\n",
       "      <th>Z</th>\n",
       "    </tr>\n",
       "  </thead>\n",
       "  <tbody>\n",
       "    <tr>\n",
       "      <th>0</th>\n",
       "      <td>0.651853</td>\n",
       "      <td>1.254018</td>\n",
       "      <td>1.329549</td>\n",
       "    </tr>\n",
       "    <tr>\n",
       "      <th>1</th>\n",
       "      <td>0.091746</td>\n",
       "      <td>1.592544</td>\n",
       "      <td>0.545872</td>\n",
       "    </tr>\n",
       "    <tr>\n",
       "      <th>2</th>\n",
       "      <td>0.470880</td>\n",
       "      <td>1.210544</td>\n",
       "      <td>1.803598</td>\n",
       "    </tr>\n",
       "    <tr>\n",
       "      <th>3</th>\n",
       "      <td>1.108208</td>\n",
       "      <td>1.582203</td>\n",
       "      <td>0.866786</td>\n",
       "    </tr>\n",
       "    <tr>\n",
       "      <th>4</th>\n",
       "      <td>1.386732</td>\n",
       "      <td>0.317210</td>\n",
       "      <td>1.046666</td>\n",
       "    </tr>\n",
       "    <tr>\n",
       "      <th>...</th>\n",
       "      <td>...</td>\n",
       "      <td>...</td>\n",
       "      <td>...</td>\n",
       "    </tr>\n",
       "    <tr>\n",
       "      <th>9999995</th>\n",
       "      <td>0.460476</td>\n",
       "      <td>0.426199</td>\n",
       "      <td>0.347940</td>\n",
       "    </tr>\n",
       "    <tr>\n",
       "      <th>9999996</th>\n",
       "      <td>1.427178</td>\n",
       "      <td>0.677006</td>\n",
       "      <td>1.701595</td>\n",
       "    </tr>\n",
       "    <tr>\n",
       "      <th>9999997</th>\n",
       "      <td>1.977541</td>\n",
       "      <td>0.975686</td>\n",
       "      <td>1.541888</td>\n",
       "    </tr>\n",
       "    <tr>\n",
       "      <th>9999998</th>\n",
       "      <td>0.701421</td>\n",
       "      <td>1.957721</td>\n",
       "      <td>1.997353</td>\n",
       "    </tr>\n",
       "    <tr>\n",
       "      <th>9999999</th>\n",
       "      <td>1.420820</td>\n",
       "      <td>1.297734</td>\n",
       "      <td>1.009284</td>\n",
       "    </tr>\n",
       "  </tbody>\n",
       "</table>\n",
       "<p>10000000 rows × 3 columns</p>\n",
       "</div>"
      ],
      "text/plain": [
       "                X         Y         Z\n",
       "0        0.651853  1.254018  1.329549\n",
       "1        0.091746  1.592544  0.545872\n",
       "2        0.470880  1.210544  1.803598\n",
       "3        1.108208  1.582203  0.866786\n",
       "4        1.386732  0.317210  1.046666\n",
       "...           ...       ...       ...\n",
       "9999995  0.460476  0.426199  0.347940\n",
       "9999996  1.427178  0.677006  1.701595\n",
       "9999997  1.977541  0.975686  1.541888\n",
       "9999998  0.701421  1.957721  1.997353\n",
       "9999999  1.420820  1.297734  1.009284\n",
       "\n",
       "[10000000 rows x 3 columns]"
      ]
     },
     "execution_count": 47,
     "metadata": {},
     "output_type": "execute_result"
    }
   ],
   "source": [
    "import pandas as pd\n",
    "df = pd.DataFrame(A,columns = ['X', 'Y', 'Z'])\n",
    "df"
   ]
  },
  {
   "cell_type": "markdown",
   "id": "03baf284",
   "metadata": {},
   "source": [
    "<p style=\"font-size:20px; color:blue; font-weight:bold\">Question 7:</p>\n",
    "\n",
    "Make a new column called \"above\" that contains the Boolean value True if the corresponding point is above the paraboloid, and False otherwise.  You should do this without any loops."
   ]
  },
  {
   "cell_type": "code",
   "execution_count": 50,
   "id": "aa9f1624",
   "metadata": {},
   "outputs": [
    {
     "data": {
      "text/html": [
       "<div>\n",
       "<style scoped>\n",
       "    .dataframe tbody tr th:only-of-type {\n",
       "        vertical-align: middle;\n",
       "    }\n",
       "\n",
       "    .dataframe tbody tr th {\n",
       "        vertical-align: top;\n",
       "    }\n",
       "\n",
       "    .dataframe thead th {\n",
       "        text-align: right;\n",
       "    }\n",
       "</style>\n",
       "<table border=\"1\" class=\"dataframe\">\n",
       "  <thead>\n",
       "    <tr style=\"text-align: right;\">\n",
       "      <th></th>\n",
       "      <th>X</th>\n",
       "      <th>Y</th>\n",
       "      <th>Z</th>\n",
       "      <th>above</th>\n",
       "    </tr>\n",
       "  </thead>\n",
       "  <tbody>\n",
       "    <tr>\n",
       "      <th>0</th>\n",
       "      <td>0.651853</td>\n",
       "      <td>1.254018</td>\n",
       "      <td>1.329549</td>\n",
       "      <td>True</td>\n",
       "    </tr>\n",
       "    <tr>\n",
       "      <th>1</th>\n",
       "      <td>0.091746</td>\n",
       "      <td>1.592544</td>\n",
       "      <td>0.545872</td>\n",
       "      <td>True</td>\n",
       "    </tr>\n",
       "    <tr>\n",
       "      <th>2</th>\n",
       "      <td>0.470880</td>\n",
       "      <td>1.210544</td>\n",
       "      <td>1.803598</td>\n",
       "      <td>False</td>\n",
       "    </tr>\n",
       "    <tr>\n",
       "      <th>3</th>\n",
       "      <td>1.108208</td>\n",
       "      <td>1.582203</td>\n",
       "      <td>0.866786</td>\n",
       "      <td>True</td>\n",
       "    </tr>\n",
       "    <tr>\n",
       "      <th>4</th>\n",
       "      <td>1.386732</td>\n",
       "      <td>0.317210</td>\n",
       "      <td>1.046666</td>\n",
       "      <td>True</td>\n",
       "    </tr>\n",
       "    <tr>\n",
       "      <th>...</th>\n",
       "      <td>...</td>\n",
       "      <td>...</td>\n",
       "      <td>...</td>\n",
       "      <td>...</td>\n",
       "    </tr>\n",
       "    <tr>\n",
       "      <th>9999995</th>\n",
       "      <td>0.460476</td>\n",
       "      <td>0.426199</td>\n",
       "      <td>0.347940</td>\n",
       "      <td>True</td>\n",
       "    </tr>\n",
       "    <tr>\n",
       "      <th>9999996</th>\n",
       "      <td>1.427178</td>\n",
       "      <td>0.677006</td>\n",
       "      <td>1.701595</td>\n",
       "      <td>True</td>\n",
       "    </tr>\n",
       "    <tr>\n",
       "      <th>9999997</th>\n",
       "      <td>1.977541</td>\n",
       "      <td>0.975686</td>\n",
       "      <td>1.541888</td>\n",
       "      <td>True</td>\n",
       "    </tr>\n",
       "    <tr>\n",
       "      <th>9999998</th>\n",
       "      <td>0.701421</td>\n",
       "      <td>1.957721</td>\n",
       "      <td>1.997353</td>\n",
       "      <td>True</td>\n",
       "    </tr>\n",
       "    <tr>\n",
       "      <th>9999999</th>\n",
       "      <td>1.420820</td>\n",
       "      <td>1.297734</td>\n",
       "      <td>1.009284</td>\n",
       "      <td>True</td>\n",
       "    </tr>\n",
       "  </tbody>\n",
       "</table>\n",
       "<p>10000000 rows × 4 columns</p>\n",
       "</div>"
      ],
      "text/plain": [
       "                X         Y         Z  above\n",
       "0        0.651853  1.254018  1.329549   True\n",
       "1        0.091746  1.592544  0.545872   True\n",
       "2        0.470880  1.210544  1.803598  False\n",
       "3        1.108208  1.582203  0.866786   True\n",
       "4        1.386732  0.317210  1.046666   True\n",
       "...           ...       ...       ...    ...\n",
       "9999995  0.460476  0.426199  0.347940   True\n",
       "9999996  1.427178  0.677006  1.701595   True\n",
       "9999997  1.977541  0.975686  1.541888   True\n",
       "9999998  0.701421  1.957721  1.997353   True\n",
       "9999999  1.420820  1.297734  1.009284   True\n",
       "\n",
       "[10000000 rows x 4 columns]"
      ]
     },
     "execution_count": 50,
     "metadata": {},
     "output_type": "execute_result"
    }
   ],
   "source": [
    "df['above'] = B\n",
    "df"
   ]
  },
  {
   "cell_type": "markdown",
   "id": "4b7c3eda",
   "metadata": {},
   "source": [
    "<p style=\"font-size:20px; color:blue; font-weight:bold\">Question 8:</p>\n",
    "\n",
    "Use `.sum()` to count how many True values there are in the \"above\" column.  Divide by the number of rows.  Assuming you are using the numbers from A, then this should give the same probability estimate as in the previous part."
   ]
  },
  {
   "cell_type": "code",
   "execution_count": 52,
   "id": "83184b3f",
   "metadata": {},
   "outputs": [
    {
     "data": {
      "text/plain": [
       "0.8037776"
      ]
     },
     "execution_count": 52,
     "metadata": {},
     "output_type": "execute_result"
    }
   ],
   "source": [
    "(df['above'] == True).sum()/len(df['above'])"
   ]
  }
 ],
 "metadata": {
  "kernelspec": {
   "display_name": "Python 3",
   "language": "python",
   "name": "python3"
  },
  "language_info": {
   "codemirror_mode": {
    "name": "ipython",
    "version": 3
   },
   "file_extension": ".py",
   "mimetype": "text/x-python",
   "name": "python",
   "nbconvert_exporter": "python",
   "pygments_lexer": "ipython3",
   "version": "3.8.8"
  }
 },
 "nbformat": 4,
 "nbformat_minor": 5
}

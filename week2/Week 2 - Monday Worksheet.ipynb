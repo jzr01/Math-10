{
 "cells": [
  {
   "cell_type": "markdown",
   "id": "476f37e9",
   "metadata": {},
   "source": [
    "# UCI Math 10, Fall 2021\n",
    "\n",
    "# Week 2, Monday In-class Worksheet\n",
    "\n",
    "You may submit this worksheet in a group of 1-3 total students.\n",
    "\n",
    "These worksheets are graded for effort, not for correctness.\n",
    "\n",
    "**Due date**.  Due at 5:00pm on Tuesday of Week 1.\n",
    "\n",
    "<p style=\"font-size:20px; color:blue; font-weight:bold\">Question 0:</p>\n",
    "\n",
    "Name(s): Zhengran Ji\n",
    "\n",
    "UCI ID(s): 87537895"
   ]
  },
  {
   "cell_type": "markdown",
   "id": "8fc30303",
   "metadata": {},
   "source": [
    "## Motivating question:\n",
    "\n",
    "* If we roll five distinct six-sided dice, what is the probability that the number of 1s rolled is equal to the number of 2s rolled?\n",
    "\n",
    "This combinatorics question can be solved directly without a computer (if you're interested, try to to figure out where these numbers come from, or try to come up with an alternative method for getting this same answer):\n",
    "$$\n",
    "\\text{prob} = \\left(\\frac{4}{6}\\right)^5 + 20 \\, \\left(\\frac{1}{6}\\right)^2 \\left(\\frac{4}{6}\\right)^3 + 30 \\,\\left(\\frac{1}{6}\\right)^4 \\left(\\frac{4}{6}\\right) = \\frac{101}{324} \\approx 0.311728395\n",
    "$$\n",
    "In this notebook, we'll solve the question in several different ways in Python.\n",
    "* [A probability estimate using NumPy](#A-probability-estimate-using-NumPy)\n",
    "* [A probability estimate using pandas](#A-probability-estimate-using-pandas)\n",
    "* (Optional) [The exact probability using itertools.product](#The-exact-probability-using-itertools.product)"
   ]
  },
  {
   "cell_type": "code",
   "execution_count": 2,
   "id": "a05c7718",
   "metadata": {},
   "outputs": [],
   "source": [
    "import numpy as np\n",
    "import pandas as pd\n",
    "from itertools import product"
   ]
  },
  {
   "cell_type": "markdown",
   "id": "2fb6dad8",
   "metadata": {},
   "source": [
    "## A probability estimate using NumPy\n",
    "Strategy:\n",
    "* Set a value of $n$ for \"number of experiments\"\n",
    "* Make an $n \\times 5$ NumPy array of random integers, where each row represents rolling five distinct 6-sided dice.  (Be sure to construct this array without any loops.  Use a random number generator in Python, constructed using `np.random.default_rng()`.)\n",
    "* Count how many of the experiments were successful.\n",
    "* Estimate the probability using the formula \"number of successes\" divided by \"number of experiments\".\n",
    "* If your answer does not equal the exact probability to at least three decimal places, try increasing $n$ (or looking for mistakes!)."
   ]
  },
  {
   "cell_type": "markdown",
   "id": "042097e3",
   "metadata": {},
   "source": [
    "Here is an example of counting 6s in a NumPy array."
   ]
  },
  {
   "cell_type": "code",
   "execution_count": 9,
   "id": "c5193998",
   "metadata": {},
   "outputs": [],
   "source": [
    "A = np.array([[1, 4, 2, 6, 6],\n",
    "       [5, 6, 4, 3, 5],\n",
    "       [4, 4, 3, 4, 3],\n",
    "       [1, 5, 5, 3, 3],\n",
    "       [3, 1, 6, 2, 5]])"
   ]
  },
  {
   "cell_type": "code",
   "execution_count": 10,
   "id": "a332b06c",
   "metadata": {},
   "outputs": [
    {
     "data": {
      "text/plain": [
       "array([[False, False, False,  True,  True],\n",
       "       [False,  True, False, False, False],\n",
       "       [False, False, False, False, False],\n",
       "       [False, False, False, False, False],\n",
       "       [False, False,  True, False, False]])"
      ]
     },
     "execution_count": 10,
     "metadata": {},
     "output_type": "execute_result"
    }
   ],
   "source": [
    "# B has the same shape as A\n",
    "# B contains True where A contains 6.\n",
    "B = (A == 6)\n",
    "B"
   ]
  },
  {
   "cell_type": "code",
   "execution_count": 11,
   "id": "edc224cb",
   "metadata": {},
   "outputs": [
    {
     "data": {
      "text/plain": [
       "dtype('bool')"
      ]
     },
     "execution_count": 11,
     "metadata": {},
     "output_type": "execute_result"
    }
   ],
   "source": [
    "B.dtype"
   ]
  },
  {
   "cell_type": "code",
   "execution_count": 15,
   "id": "86cce7a0",
   "metadata": {},
   "outputs": [
    {
     "data": {
      "text/plain": [
       "2"
      ]
     },
     "execution_count": 15,
     "metadata": {},
     "output_type": "execute_result"
    }
   ],
   "source": [
    "# To count Trues, you can add them.\n",
    "True + True + False"
   ]
  },
  {
   "cell_type": "code",
   "execution_count": 20,
   "id": "d7a83791",
   "metadata": {},
   "outputs": [
    {
     "data": {
      "text/plain": [
       "array([0, 1, 1, 1, 1])"
      ]
     },
     "execution_count": 20,
     "metadata": {},
     "output_type": "execute_result"
    }
   ],
   "source": [
    "# axis = 0 means: add along the columns, one column at a time.\n",
    "# axis = 1 means: add along the rows, one row at a time\n",
    "# (Make sure you understand these examples.)\n",
    "B.sum(axis = 0)"
   ]
  },
  {
   "cell_type": "code",
   "execution_count": 21,
   "id": "9eb44c62",
   "metadata": {},
   "outputs": [
    {
     "data": {
      "text/plain": [
       "array([2, 1, 0, 0, 1])"
      ]
     },
     "execution_count": 21,
     "metadata": {},
     "output_type": "execute_result"
    }
   ],
   "source": [
    "B.sum(axis = 1)"
   ]
  },
  {
   "cell_type": "markdown",
   "id": "428efacd",
   "metadata": {},
   "source": [
    "<p style=\"font-size:20px; color:blue; font-weight:bold\">Question 1:</p>\n",
    "\n",
    "Put your code for the NumPy estimate here.  The answer should be correct to three decimal places."
   ]
  },
  {
   "cell_type": "code",
   "execution_count": 11,
   "id": "ade3a110",
   "metadata": {
    "scrolled": true
   },
   "outputs": [],
   "source": [
    "n = 10**3\n",
    "#rng = np.random.default_rng()\n",
    "A = np.random.randint(1,7,size = (n,5))\n",
    "A1 = A == 1\n",
    "A1 = A1.sum(axis = 1)\n",
    "\n",
    "A2 = A == 2\n",
    "A2 = A2.sum(axis = 1)\n",
    "\n",
    "n = sum(A1 == A2)\n",
    "n/"
   ]
  },
  {
   "cell_type": "markdown",
   "id": "3df2bdfe",
   "metadata": {},
   "source": [
    "## A probability estimate using pandas\n",
    "\n",
    "We make a similar computation here to practice with pandas."
   ]
  },
  {
   "cell_type": "code",
   "execution_count": 2,
   "id": "eaeeb02c",
   "metadata": {},
   "outputs": [],
   "source": [
    "A = np.array([[1, 4, 2, 6, 6],\n",
    "       [5, 6, 4, 3, 5],\n",
    "       [4, 4, 3, 4, 3],\n",
    "       [1, 5, 5, 3, 3],\n",
    "       [3, 1, 6, 2, 5]])"
   ]
  },
  {
   "cell_type": "code",
   "execution_count": 3,
   "id": "4aacf775",
   "metadata": {},
   "outputs": [
    {
     "data": {
      "text/html": [
       "<div>\n",
       "<style scoped>\n",
       "    .dataframe tbody tr th:only-of-type {\n",
       "        vertical-align: middle;\n",
       "    }\n",
       "\n",
       "    .dataframe tbody tr th {\n",
       "        vertical-align: top;\n",
       "    }\n",
       "\n",
       "    .dataframe thead th {\n",
       "        text-align: right;\n",
       "    }\n",
       "</style>\n",
       "<table border=\"1\" class=\"dataframe\">\n",
       "  <thead>\n",
       "    <tr style=\"text-align: right;\">\n",
       "      <th></th>\n",
       "      <th>0</th>\n",
       "      <th>1</th>\n",
       "      <th>2</th>\n",
       "      <th>3</th>\n",
       "      <th>4</th>\n",
       "    </tr>\n",
       "  </thead>\n",
       "  <tbody>\n",
       "    <tr>\n",
       "      <th>0</th>\n",
       "      <td>1</td>\n",
       "      <td>4</td>\n",
       "      <td>2</td>\n",
       "      <td>6</td>\n",
       "      <td>6</td>\n",
       "    </tr>\n",
       "    <tr>\n",
       "      <th>1</th>\n",
       "      <td>5</td>\n",
       "      <td>6</td>\n",
       "      <td>4</td>\n",
       "      <td>3</td>\n",
       "      <td>5</td>\n",
       "    </tr>\n",
       "    <tr>\n",
       "      <th>2</th>\n",
       "      <td>4</td>\n",
       "      <td>4</td>\n",
       "      <td>3</td>\n",
       "      <td>4</td>\n",
       "      <td>3</td>\n",
       "    </tr>\n",
       "    <tr>\n",
       "      <th>3</th>\n",
       "      <td>1</td>\n",
       "      <td>5</td>\n",
       "      <td>5</td>\n",
       "      <td>3</td>\n",
       "      <td>3</td>\n",
       "    </tr>\n",
       "    <tr>\n",
       "      <th>4</th>\n",
       "      <td>3</td>\n",
       "      <td>1</td>\n",
       "      <td>6</td>\n",
       "      <td>2</td>\n",
       "      <td>5</td>\n",
       "    </tr>\n",
       "  </tbody>\n",
       "</table>\n",
       "</div>"
      ],
      "text/plain": [
       "   0  1  2  3  4\n",
       "0  1  4  2  6  6\n",
       "1  5  6  4  3  5\n",
       "2  4  4  3  4  3\n",
       "3  1  5  5  3  3\n",
       "4  3  1  6  2  5"
      ]
     },
     "execution_count": 3,
     "metadata": {},
     "output_type": "execute_result"
    }
   ],
   "source": [
    "# Convert the NumPy array to a pandas DataFrame\n",
    "df = pd.DataFrame(A)\n",
    "df"
   ]
  },
  {
   "cell_type": "code",
   "execution_count": 5,
   "id": "77875202",
   "metadata": {},
   "outputs": [
    {
     "data": {
      "text/html": [
       "<div>\n",
       "<style scoped>\n",
       "    .dataframe tbody tr th:only-of-type {\n",
       "        vertical-align: middle;\n",
       "    }\n",
       "\n",
       "    .dataframe tbody tr th {\n",
       "        vertical-align: top;\n",
       "    }\n",
       "\n",
       "    .dataframe thead th {\n",
       "        text-align: right;\n",
       "    }\n",
       "</style>\n",
       "<table border=\"1\" class=\"dataframe\">\n",
       "  <thead>\n",
       "    <tr style=\"text-align: right;\">\n",
       "      <th></th>\n",
       "      <th>0</th>\n",
       "      <th>1</th>\n",
       "      <th>2</th>\n",
       "      <th>3</th>\n",
       "      <th>4</th>\n",
       "    </tr>\n",
       "  </thead>\n",
       "  <tbody>\n",
       "    <tr>\n",
       "      <th>0</th>\n",
       "      <td>False</td>\n",
       "      <td>False</td>\n",
       "      <td>False</td>\n",
       "      <td>True</td>\n",
       "      <td>True</td>\n",
       "    </tr>\n",
       "    <tr>\n",
       "      <th>1</th>\n",
       "      <td>False</td>\n",
       "      <td>True</td>\n",
       "      <td>False</td>\n",
       "      <td>False</td>\n",
       "      <td>False</td>\n",
       "    </tr>\n",
       "    <tr>\n",
       "      <th>2</th>\n",
       "      <td>False</td>\n",
       "      <td>False</td>\n",
       "      <td>False</td>\n",
       "      <td>False</td>\n",
       "      <td>False</td>\n",
       "    </tr>\n",
       "    <tr>\n",
       "      <th>3</th>\n",
       "      <td>False</td>\n",
       "      <td>False</td>\n",
       "      <td>False</td>\n",
       "      <td>False</td>\n",
       "      <td>False</td>\n",
       "    </tr>\n",
       "    <tr>\n",
       "      <th>4</th>\n",
       "      <td>False</td>\n",
       "      <td>False</td>\n",
       "      <td>True</td>\n",
       "      <td>False</td>\n",
       "      <td>False</td>\n",
       "    </tr>\n",
       "  </tbody>\n",
       "</table>\n",
       "</div>"
      ],
      "text/plain": [
       "       0      1      2      3      4\n",
       "0  False  False  False   True   True\n",
       "1  False   True  False  False  False\n",
       "2  False  False  False  False  False\n",
       "3  False  False  False  False  False\n",
       "4  False  False   True  False  False"
      ]
     },
     "execution_count": 5,
     "metadata": {},
     "output_type": "execute_result"
    }
   ],
   "source": [
    "df2 = (df == 6)\n",
    "df2"
   ]
  },
  {
   "cell_type": "code",
   "execution_count": 6,
   "id": "ed0f3505",
   "metadata": {},
   "outputs": [
    {
     "data": {
      "text/plain": [
       "0    0\n",
       "1    1\n",
       "2    1\n",
       "3    1\n",
       "4    1\n",
       "dtype: int64"
      ]
     },
     "execution_count": 6,
     "metadata": {},
     "output_type": "execute_result"
    }
   ],
   "source": [
    "# Note how similar this code is to the NumPy code.\n",
    "df2.sum(axis = 0)"
   ]
  },
  {
   "cell_type": "code",
   "execution_count": 7,
   "id": "41d6ac95",
   "metadata": {},
   "outputs": [
    {
     "data": {
      "text/plain": [
       "0    2\n",
       "1    1\n",
       "2    0\n",
       "3    0\n",
       "4    1\n",
       "dtype: int64"
      ]
     },
     "execution_count": 7,
     "metadata": {},
     "output_type": "execute_result"
    }
   ],
   "source": [
    "df2.sum(axis = 1)"
   ]
  },
  {
   "cell_type": "code",
   "execution_count": 8,
   "id": "940a0e45",
   "metadata": {},
   "outputs": [
    {
     "data": {
      "text/html": [
       "<div>\n",
       "<style scoped>\n",
       "    .dataframe tbody tr th:only-of-type {\n",
       "        vertical-align: middle;\n",
       "    }\n",
       "\n",
       "    .dataframe tbody tr th {\n",
       "        vertical-align: top;\n",
       "    }\n",
       "\n",
       "    .dataframe thead th {\n",
       "        text-align: right;\n",
       "    }\n",
       "</style>\n",
       "<table border=\"1\" class=\"dataframe\">\n",
       "  <thead>\n",
       "    <tr style=\"text-align: right;\">\n",
       "      <th></th>\n",
       "      <th>0</th>\n",
       "      <th>1</th>\n",
       "      <th>2</th>\n",
       "      <th>3</th>\n",
       "      <th>4</th>\n",
       "      <th>sixes</th>\n",
       "    </tr>\n",
       "  </thead>\n",
       "  <tbody>\n",
       "    <tr>\n",
       "      <th>0</th>\n",
       "      <td>1</td>\n",
       "      <td>4</td>\n",
       "      <td>2</td>\n",
       "      <td>6</td>\n",
       "      <td>6</td>\n",
       "      <td>2</td>\n",
       "    </tr>\n",
       "    <tr>\n",
       "      <th>1</th>\n",
       "      <td>5</td>\n",
       "      <td>6</td>\n",
       "      <td>4</td>\n",
       "      <td>3</td>\n",
       "      <td>5</td>\n",
       "      <td>1</td>\n",
       "    </tr>\n",
       "    <tr>\n",
       "      <th>2</th>\n",
       "      <td>4</td>\n",
       "      <td>4</td>\n",
       "      <td>3</td>\n",
       "      <td>4</td>\n",
       "      <td>3</td>\n",
       "      <td>0</td>\n",
       "    </tr>\n",
       "    <tr>\n",
       "      <th>3</th>\n",
       "      <td>1</td>\n",
       "      <td>5</td>\n",
       "      <td>5</td>\n",
       "      <td>3</td>\n",
       "      <td>3</td>\n",
       "      <td>0</td>\n",
       "    </tr>\n",
       "    <tr>\n",
       "      <th>4</th>\n",
       "      <td>3</td>\n",
       "      <td>1</td>\n",
       "      <td>6</td>\n",
       "      <td>2</td>\n",
       "      <td>5</td>\n",
       "      <td>1</td>\n",
       "    </tr>\n",
       "  </tbody>\n",
       "</table>\n",
       "</div>"
      ],
      "text/plain": [
       "   0  1  2  3  4  sixes\n",
       "0  1  4  2  6  6      2\n",
       "1  5  6  4  3  5      1\n",
       "2  4  4  3  4  3      0\n",
       "3  1  5  5  3  3      0\n",
       "4  3  1  6  2  5      1"
      ]
     },
     "execution_count": 8,
     "metadata": {},
     "output_type": "execute_result"
    }
   ],
   "source": [
    "# Example of making a new column\n",
    "df[\"sixes\"] = df2.sum(axis = 1)\n",
    "df"
   ]
  },
  {
   "cell_type": "markdown",
   "id": "73eb5212",
   "metadata": {},
   "source": [
    "<p style=\"font-size:20px; color:blue; font-weight:bold\">Question 2:</p>\n",
    "\n",
    "Put your code for the pandas estimate here.  Try to use a big enough dataframe (and efficient enough code) that the answer is correct to three decimal places."
   ]
  },
  {
   "cell_type": "code",
   "execution_count": null,
   "id": "efe76877",
   "metadata": {},
   "outputs": [],
   "source": [
    "n = 10**7\n",
    "A = np.random.randint(1,7,size = (n,5))\n",
    "df = pd.DataFrame(A)\n",
    "df1 = (df == 1)\n",
    "df['amount1'] = df1.sum(axis = 1)\n",
    "df2 = (df == 2)\n",
    "df['amount2'] = df2.sum(axis = 1)\n",
    "df\n",
    "df3 = df['amount1'] == df['amount2']\n",
    "P = sum(df3==True)/n\n",
    "print(format(P,'.3f'))"
   ]
  },
  {
   "cell_type": "markdown",
   "id": "df8ab9d8",
   "metadata": {},
   "source": [
    "## The exact probability using itertools.product\n",
    "\n",
    "<p style=\"color:red; font-weight:bold\">(Optional)</p>\n",
    "\n",
    "This is good practice but we may not cover itertools in Math 10, so you can skip this if you prefer."
   ]
  },
  {
   "cell_type": "code",
   "execution_count": 51,
   "id": "04e983b4",
   "metadata": {},
   "outputs": [
    {
     "data": {
      "text/plain": [
       "<itertools.product at 0x7fefc8ac7340>"
      ]
     },
     "execution_count": 51,
     "metadata": {},
     "output_type": "execute_result"
    }
   ],
   "source": [
    "product([\"a\",\"b\",\"c\"],[0,1,10])"
   ]
  },
  {
   "cell_type": "code",
   "execution_count": 52,
   "id": "fc2ef618",
   "metadata": {},
   "outputs": [
    {
     "data": {
      "text/plain": [
       "[('a', 0),\n",
       " ('a', 1),\n",
       " ('a', 10),\n",
       " ('b', 0),\n",
       " ('b', 1),\n",
       " ('b', 10),\n",
       " ('c', 0),\n",
       " ('c', 1),\n",
       " ('c', 10)]"
      ]
     },
     "execution_count": 52,
     "metadata": {},
     "output_type": "execute_result"
    }
   ],
   "source": [
    "list(product([\"a\",\"b\",\"c\"],[0,1,10]))"
   ]
  },
  {
   "cell_type": "code",
   "execution_count": 40,
   "id": "492429e7",
   "metadata": {},
   "outputs": [
    {
     "data": {
      "text/plain": [
       "[(0, 0, 0, 0),\n",
       " (0, 0, 0, 1),\n",
       " (0, 0, 1, 0),\n",
       " (0, 0, 1, 1),\n",
       " (0, 1, 0, 0),\n",
       " (0, 1, 0, 1),\n",
       " (0, 1, 1, 0),\n",
       " (0, 1, 1, 1),\n",
       " (1, 0, 0, 0),\n",
       " (1, 0, 0, 1),\n",
       " (1, 0, 1, 0),\n",
       " (1, 0, 1, 1),\n",
       " (1, 1, 0, 0),\n",
       " (1, 1, 0, 1),\n",
       " (1, 1, 1, 0),\n",
       " (1, 1, 1, 1)]"
      ]
     },
     "execution_count": 40,
     "metadata": {},
     "output_type": "execute_result"
    }
   ],
   "source": [
    "list(product(range(2),repeat=4))"
   ]
  },
  {
   "cell_type": "code",
   "execution_count": 41,
   "id": "1968999c",
   "metadata": {},
   "outputs": [
    {
     "data": {
      "text/plain": [
       "False"
      ]
     },
     "execution_count": 41,
     "metadata": {},
     "output_type": "execute_result"
    }
   ],
   "source": [
    "# We can't use this kind of syntax to count 1s,\n",
    "# even though it works in both NumPy and pandas:\n",
    "my_tuple = (1,0,1,1)\n",
    "my_tuple == 1"
   ]
  },
  {
   "cell_type": "code",
   "execution_count": 43,
   "id": "e7063ae6",
   "metadata": {},
   "outputs": [
    {
     "data": {
      "text/plain": [
       "3"
      ]
     },
     "execution_count": 43,
     "metadata": {},
     "output_type": "execute_result"
    }
   ],
   "source": [
    "# Here is a method to count:\n",
    "my_tuple.count(1)"
   ]
  },
  {
   "cell_type": "markdown",
   "id": "de4f4649",
   "metadata": {},
   "source": [
    "<p style=\"font-size:20px; color:blue; font-weight:bold\">Question 3:</p>\n",
    "\n",
    "Compute the exact probability using product from the itertools module.  (You might think this way is better than the NumPy and pandas methods, but the NumPy and pandas methods generalize better to bigger problems, where we cannot explicitly list every combination.)"
   ]
  },
  {
   "cell_type": "code",
   "execution_count": 18,
   "id": "333648c3",
   "metadata": {},
   "outputs": [
    {
     "name": "stdout",
     "output_type": "stream",
     "text": [
      "0.312\n"
     ]
    }
   ],
   "source": [
    "A = list(product(range(1,7),repeat=5))\n",
    "my_list1 = []\n",
    "my_list2 = []\n",
    "for i in range(len(A)):\n",
    "    my_list1.append(A[i].count(1))\n",
    "    my_list2.append(A[i].count(2))\n",
    "\n",
    "m = 0\n",
    "for i in range(len(my_list1)):\n",
    "    if my_list1[i] == my_list2[i]:\n",
    "        m += 1\n",
    "\n",
    "P = m /len(A)\n",
    "print(format(P,'.3f'))"
   ]
  }
 ],
 "metadata": {
  "kernelspec": {
   "display_name": "Python 3",
   "language": "python",
   "name": "python3"
  },
  "language_info": {
   "codemirror_mode": {
    "name": "ipython",
    "version": 3
   },
   "file_extension": ".py",
   "mimetype": "text/x-python",
   "name": "python",
   "nbconvert_exporter": "python",
   "pygments_lexer": "ipython3",
   "version": "3.8.8"
  }
 },
 "nbformat": 4,
 "nbformat_minor": 5
}

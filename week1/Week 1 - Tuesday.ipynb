{
 "cells": [
  {
   "cell_type": "markdown",
   "id": "6cb0ea9b",
   "metadata": {},
   "source": [
    "# Week 1 Tuesday Discussion\n",
    "\n",
    "__TA__: Yasmeen Baki <ybaki@uci.edu>\n",
    "\n",
    "__OH__: TuThu 11:00am-1:00pm (shared with Math 147)\n",
    "\n",
    "A few reminders:\n",
    "- Quiz 1 will be on Thursday during discussion. You will have 20 minutes to write your quiz \n",
    "- Homework 1 is due Friday\n",
    "\n",
    "The plan for today:\n",
    "- Look through Homework 1 and try some similar problems as a class\n",
    "- Try some questions that will be similar to Quiz 1\n",
    "- If there is time, I have a set of other problems we can work through\n",
    "- <font color = red> You do not need to turn in any work for today :) </font>"
   ]
  },
  {
   "cell_type": "markdown",
   "id": "64db677c",
   "metadata": {},
   "source": [
    "***"
   ]
  },
  {
   "cell_type": "markdown",
   "id": "c745b217",
   "metadata": {},
   "source": [
    "# Homework 1 Help and Quiz 1 Hints"
   ]
  },
  {
   "cell_type": "markdown",
   "id": "e2d6e592",
   "metadata": {},
   "source": [
    "## Related to Question 4 on Homework 1 and a Quiz 1 Learning Objective\n",
    "\n",
    "Let's list some important properties of each of the following data types:\n",
    "\n",
    "1. List: mutable, method\n",
    "2. Tuple: immutable, put into a set\n",
    "3. Set: elements of a set msut be immutable, but set is mutable \n",
    "4. Range: it will takes very little memory to create sequence \n",
    "5. Numpy Array: multi-dimension, optimized for speed\n",
    "\n",
    "Think about what can be stored in a set. This should help you answer Question 5 on the homework."
   ]
  },
  {
   "cell_type": "markdown",
   "id": "e5d69643",
   "metadata": {},
   "source": [
    "## Defining a function in Python and the % operation (Question 6 on Homework 1)\n",
    "\n",
    "Write a function `is_even(n)` that takes an integer as input and returns True if the integer is even and False otherwise."
   ]
  },
  {
   "cell_type": "code",
   "execution_count": 1,
   "id": "ce949fe6",
   "metadata": {},
   "outputs": [],
   "source": [
    "def is_even(n):\n",
    "    if n % 2 == 0:\n",
    "        return True\n",
    "    \n",
    "    else:\n",
    "        return False"
   ]
  },
  {
   "cell_type": "code",
   "execution_count": 3,
   "id": "40d40a6a",
   "metadata": {},
   "outputs": [
    {
     "data": {
      "text/plain": [
       "False"
      ]
     },
     "execution_count": 3,
     "metadata": {},
     "output_type": "execute_result"
    }
   ],
   "source": [
    "is_even(1)"
   ]
  },
  {
   "cell_type": "markdown",
   "id": "5fa93dd8",
   "metadata": {},
   "source": [
    "## Related to Questions 6 and 7 on Homework 1 and a Hint for the Quiz\n",
    "\n",
    "Write a function `alternating(m,n)` which takes two integers as input and returns an $n \\times m$ numpy array that has alternating rows of 1's and 7's."
   ]
  },
  {
   "cell_type": "code",
   "execution_count": 27,
   "id": "f3dbe811",
   "metadata": {},
   "outputs": [],
   "source": [
    "import numpy as np"
   ]
  },
  {
   "cell_type": "markdown",
   "id": "987d803e",
   "metadata": {},
   "source": [
    "What's wrong with the following? What does the error message mean? How could we get help?"
   ]
  },
  {
   "cell_type": "code",
   "execution_count": 33,
   "id": "34e5e091",
   "metadata": {},
   "outputs": [],
   "source": [
    "def alternating(m,n):\n",
    "    my_matrix = np.zeros((m,n),dtype = int)\n",
    "    for i in range(m):\n",
    "        for j in range(n):\n",
    "            if i % 2 == 1:\n",
    "                my_matrix[i,j] = 7\n",
    "            else:\n",
    "                my_matrix[i,j] = 1\n",
    "    return my_matrix"
   ]
  },
  {
   "cell_type": "code",
   "execution_count": 34,
   "id": "c08ed97f",
   "metadata": {},
   "outputs": [
    {
     "data": {
      "text/plain": [
       "array([[1, 1, 1, 1, 1],\n",
       "       [7, 7, 7, 7, 7],\n",
       "       [1, 1, 1, 1, 1],\n",
       "       [7, 7, 7, 7, 7]])"
      ]
     },
     "execution_count": 34,
     "metadata": {},
     "output_type": "execute_result"
    }
   ],
   "source": [
    "alternating(4,5)"
   ]
  },
  {
   "cell_type": "code",
   "execution_count": 14,
   "id": "7023af25",
   "metadata": {},
   "outputs": [
    {
     "ename": "TypeError",
     "evalue": "'float' object cannot be interpreted as an integer",
     "output_type": "error",
     "traceback": [
      "\u001b[0;31m---------------------------------------------------------------------------\u001b[0m",
      "\u001b[0;31mTypeError\u001b[0m                                 Traceback (most recent call last)",
      "\u001b[0;32m<ipython-input-14-9732bd87e3bc>\u001b[0m in \u001b[0;36m<module>\u001b[0;34m\u001b[0m\n\u001b[0;32m----> 1\u001b[0;31m \u001b[0mnp\u001b[0m\u001b[0;34m.\u001b[0m\u001b[0mones\u001b[0m\u001b[0;34m(\u001b[0m\u001b[0;36m3.14\u001b[0m\u001b[0;34m,\u001b[0m\u001b[0;36m15\u001b[0m\u001b[0;34m)\u001b[0m\u001b[0;34m\u001b[0m\u001b[0;34m\u001b[0m\u001b[0m\n\u001b[0m",
      "\u001b[0;32m~/opt/anaconda3/lib/python3.8/site-packages/numpy/core/numeric.py\u001b[0m in \u001b[0;36mones\u001b[0;34m(shape, dtype, order, like)\u001b[0m\n\u001b[1;32m    201\u001b[0m         \u001b[0;32mreturn\u001b[0m \u001b[0m_ones_with_like\u001b[0m\u001b[0;34m(\u001b[0m\u001b[0mshape\u001b[0m\u001b[0;34m,\u001b[0m \u001b[0mdtype\u001b[0m\u001b[0;34m=\u001b[0m\u001b[0mdtype\u001b[0m\u001b[0;34m,\u001b[0m \u001b[0morder\u001b[0m\u001b[0;34m=\u001b[0m\u001b[0morder\u001b[0m\u001b[0;34m,\u001b[0m \u001b[0mlike\u001b[0m\u001b[0;34m=\u001b[0m\u001b[0mlike\u001b[0m\u001b[0;34m)\u001b[0m\u001b[0;34m\u001b[0m\u001b[0;34m\u001b[0m\u001b[0m\n\u001b[1;32m    202\u001b[0m \u001b[0;34m\u001b[0m\u001b[0m\n\u001b[0;32m--> 203\u001b[0;31m     \u001b[0ma\u001b[0m \u001b[0;34m=\u001b[0m \u001b[0mempty\u001b[0m\u001b[0;34m(\u001b[0m\u001b[0mshape\u001b[0m\u001b[0;34m,\u001b[0m \u001b[0mdtype\u001b[0m\u001b[0;34m,\u001b[0m \u001b[0morder\u001b[0m\u001b[0;34m)\u001b[0m\u001b[0;34m\u001b[0m\u001b[0;34m\u001b[0m\u001b[0m\n\u001b[0m\u001b[1;32m    204\u001b[0m     \u001b[0mmultiarray\u001b[0m\u001b[0;34m.\u001b[0m\u001b[0mcopyto\u001b[0m\u001b[0;34m(\u001b[0m\u001b[0ma\u001b[0m\u001b[0;34m,\u001b[0m \u001b[0;36m1\u001b[0m\u001b[0;34m,\u001b[0m \u001b[0mcasting\u001b[0m\u001b[0;34m=\u001b[0m\u001b[0;34m'unsafe'\u001b[0m\u001b[0;34m)\u001b[0m\u001b[0;34m\u001b[0m\u001b[0;34m\u001b[0m\u001b[0m\n\u001b[1;32m    205\u001b[0m     \u001b[0;32mreturn\u001b[0m \u001b[0ma\u001b[0m\u001b[0;34m\u001b[0m\u001b[0;34m\u001b[0m\u001b[0m\n",
      "\u001b[0;31mTypeError\u001b[0m: 'float' object cannot be interpreted as an integer"
     ]
    }
   ],
   "source": [
    "np.ones(3.14,15)"
   ]
  },
  {
   "cell_type": "markdown",
   "id": "ce4f980f",
   "metadata": {},
   "source": [
    "The input must be integers."
   ]
  },
  {
   "cell_type": "markdown",
   "id": "919b3947",
   "metadata": {},
   "source": [
    "***"
   ]
  },
  {
   "cell_type": "markdown",
   "id": "654f1f86",
   "metadata": {},
   "source": [
    "## Define r so it meets all the following properties simultaneously"
   ]
  },
  {
   "cell_type": "code",
   "execution_count": 48,
   "id": "788a6d13",
   "metadata": {},
   "outputs": [],
   "source": [
    "r = range(0,10**7,7)"
   ]
  },
  {
   "cell_type": "code",
   "execution_count": 49,
   "id": "1aaefcab",
   "metadata": {},
   "outputs": [
    {
     "data": {
      "text/plain": [
       "0"
      ]
     },
     "execution_count": 49,
     "metadata": {},
     "output_type": "execute_result"
    }
   ],
   "source": [
    "r[0]"
   ]
  },
  {
   "cell_type": "code",
   "execution_count": 50,
   "id": "9e528bff",
   "metadata": {},
   "outputs": [
    {
     "data": {
      "text/plain": [
       "range"
      ]
     },
     "execution_count": 50,
     "metadata": {},
     "output_type": "execute_result"
    }
   ],
   "source": [
    "type(r)"
   ]
  },
  {
   "cell_type": "code",
   "execution_count": 51,
   "id": "e7c1b853",
   "metadata": {},
   "outputs": [
    {
     "data": {
      "text/plain": [
       "1428572"
      ]
     },
     "execution_count": 51,
     "metadata": {},
     "output_type": "execute_result"
    }
   ],
   "source": [
    "len(r)"
   ]
  },
  {
   "cell_type": "code",
   "execution_count": 52,
   "id": "fcab0870",
   "metadata": {},
   "outputs": [
    {
     "data": {
      "text/plain": [
       "[9999969, 9999976, 9999983, 9999990, 9999997]"
      ]
     },
     "execution_count": 52,
     "metadata": {},
     "output_type": "execute_result"
    }
   ],
   "source": [
    "list(r[-5:])"
   ]
  },
  {
   "cell_type": "markdown",
   "id": "455b31bb",
   "metadata": {},
   "source": [
    "## Convert r into each of the indicated types.  For example, convert r to a list and name the result my_list.  Here are the names you should use.\n",
    "* my_list\n",
    "* my_set\n",
    "* my_tuple\n",
    "* my_range\n",
    "* my_array (from NumPy; you'll have to import numpy first)"
   ]
  },
  {
   "cell_type": "code",
   "execution_count": 51,
   "id": "5cd06088",
   "metadata": {},
   "outputs": [],
   "source": [
    "import numpy as np"
   ]
  },
  {
   "cell_type": "code",
   "execution_count": 54,
   "id": "44ca7e1e",
   "metadata": {},
   "outputs": [],
   "source": [
    "my_list = list(r)\n",
    "my_set = set(r)\n",
    "my_tuple = tuple(r)\n",
    "my_range = r\n",
    "my_array = np.array(r)"
   ]
  },
  {
   "cell_type": "markdown",
   "id": "f7a26465",
   "metadata": {},
   "source": [
    "## Space in memory\n",
    "\n",
    "You can determine the size that something takes in memory (in bytes) using `.__sizeof__()`, as follows.  How do our five variables `my_list`, etc defined above compare in terms of size?\n",
    "\n",
    "<p style=\"color:red\">Your answer here:</p>"
   ]
  },
  {
   "cell_type": "code",
   "execution_count": 36,
   "id": "954064bb",
   "metadata": {},
   "outputs": [
    {
     "data": {
      "text/plain": [
       "80"
      ]
     },
     "execution_count": 36,
     "metadata": {},
     "output_type": "execute_result"
    }
   ],
   "source": [
    "my_list = [0,1,2,3,4]\n",
    "my_list.__sizeof__()"
   ]
  },
  {
   "cell_type": "markdown",
   "id": "c9dfd662",
   "metadata": {},
   "source": [
    "## Here we search my_list for an element.  Why do the following two speeds look so different?  Which do you think is more representative of search speed in a list?"
   ]
  },
  {
   "cell_type": "code",
   "execution_count": 37,
   "id": "87c5578a",
   "metadata": {},
   "outputs": [
    {
     "name": "stdout",
     "output_type": "stream",
     "text": [
      "228 ns ± 75.7 ns per loop (mean ± std. dev. of 7 runs, 1000000 loops each)\n"
     ]
    }
   ],
   "source": [
    "%%timeit\n",
    "0 in my_list"
   ]
  },
  {
   "cell_type": "code",
   "execution_count": 38,
   "id": "c13fa842",
   "metadata": {},
   "outputs": [
    {
     "name": "stdout",
     "output_type": "stream",
     "text": [
      "154 ns ± 19.3 ns per loop (mean ± std. dev. of 7 runs, 1000000 loops each)\n"
     ]
    }
   ],
   "source": [
    "%%timeit\n",
    "1 in my_list"
   ]
  },
  {
   "cell_type": "markdown",
   "id": "6670e59d",
   "metadata": {},
   "source": [
    "I would say that of the five data types we are considering, search speed divides them roughly into three groups.  What are those groups?  Sort them from fastest to slowest.\n",
    "\n",
    "<p style=\"color:red\">Your answer here:</p>"
   ]
  },
  {
   "cell_type": "code",
   "execution_count": 39,
   "id": "29c13db9",
   "metadata": {},
   "outputs": [],
   "source": [
    "r = [1,2,3,4,5]"
   ]
  },
  {
   "cell_type": "markdown",
   "id": "923f88c1",
   "metadata": {},
   "source": [
    "Are the following roughly the same in speed?  Why or why not?\n",
    "\n",
    "```python\n",
    "%%timeit\n",
    "1 in set(r)\n",
    "```\n",
    "\n",
    "and\n",
    "```python\n",
    "%%timeit\n",
    "1 in my_set\n",
    "```\n",
    "\n",
    "<p style=\"color:red\">Your answer here:</p>"
   ]
  },
  {
   "cell_type": "code",
   "execution_count": 40,
   "id": "64a103d3",
   "metadata": {},
   "outputs": [
    {
     "name": "stdout",
     "output_type": "stream",
     "text": [
      "711 ns ± 36.7 ns per loop (mean ± std. dev. of 7 runs, 1000000 loops each)\n"
     ]
    }
   ],
   "source": [
    "%%timeit\n",
    "1 in set(r)"
   ]
  },
  {
   "cell_type": "code",
   "execution_count": 41,
   "id": "cd83a42a",
   "metadata": {},
   "outputs": [
    {
     "name": "stdout",
     "output_type": "stream",
     "text": [
      "353 ns ± 49.1 ns per loop (mean ± std. dev. of 7 runs, 1000000 loops each)\n"
     ]
    }
   ],
   "source": [
    "%%timeit\n",
    "1 in tuple(r)"
   ]
  },
  {
   "cell_type": "code",
   "execution_count": 42,
   "id": "4a2570ef",
   "metadata": {},
   "outputs": [
    {
     "name": "stdout",
     "output_type": "stream",
     "text": [
      "10.5 µs ± 1.51 µs per loop (mean ± std. dev. of 7 runs, 100000 loops each)\n"
     ]
    }
   ],
   "source": [
    "%%timeit\n",
    "1 in np.array(r)"
   ]
  },
  {
   "cell_type": "code",
   "execution_count": 43,
   "id": "6a0899de",
   "metadata": {},
   "outputs": [
    {
     "name": "stdout",
     "output_type": "stream",
     "text": [
      "663 ns ± 96.6 ns per loop (mean ± std. dev. of 7 runs, 1000000 loops each)\n"
     ]
    }
   ],
   "source": [
    "%%timeit\n",
    "1 in range(5)"
   ]
  },
  {
   "cell_type": "markdown",
   "id": "662cfa94",
   "metadata": {},
   "source": [
    "## Time required for setting entries in a list vs in NumPy\n",
    "\n",
    "Let's make the following length one million sequence in a list and in a NumPy array\n",
    "$(2,-2,2,-2,2,-2,...)$"
   ]
  },
  {
   "cell_type": "code",
   "execution_count": 45,
   "id": "f7300f4f",
   "metadata": {},
   "outputs": [
    {
     "name": "stdout",
     "output_type": "stream",
     "text": [
      "644 ms ± 172 ms per loop (mean ± std. dev. of 7 runs, 1 loop each)\n"
     ]
    }
   ],
   "source": [
    "%%timeit\n",
    "v = []\n",
    "for i in range(10**6):\n",
    "    if i%2 == 0:\n",
    "        v.append(2)\n",
    "    elif i%2 == 1:\n",
    "        v.append(-2)"
   ]
  },
  {
   "cell_type": "markdown",
   "id": "cae0f672",
   "metadata": {},
   "source": [
    "Now try the same thing in NumPy using the following strategy.\n",
    "* Use the command `np.full` to make an array A of the correct shape with all positive 2s.\n",
    "* Use the syntax `A[1::2] = ...` to set the first, third, fifth, ... entries equal to -2."
   ]
  },
  {
   "cell_type": "code",
   "execution_count": null,
   "id": "83876c97",
   "metadata": {},
   "outputs": [],
   "source": [
    "%%timeit\n",
    "A = np.full(???)\n",
    "???"
   ]
  },
  {
   "cell_type": "markdown",
   "id": "342ee0e3",
   "metadata": {},
   "source": [
    "## Efficiency for vectorized operations in NumPy\n",
    "\n",
    "We first perform an arithmetic operation on each element in a list, using a for-loop."
   ]
  },
  {
   "cell_type": "code",
   "execution_count": 73,
   "id": "1d8f2b08",
   "metadata": {},
   "outputs": [
    {
     "data": {
      "text/plain": [
       "[1, 1, 2, 3, 4]"
      ]
     },
     "execution_count": 73,
     "metadata": {},
     "output_type": "execute_result"
    }
   ],
   "source": [
    "v = list(range(10**7))\n",
    "v[0] = 1\n",
    "v[:5]"
   ]
  },
  {
   "cell_type": "code",
   "execution_count": 74,
   "id": "34956f5e",
   "metadata": {},
   "outputs": [
    {
     "data": {
      "text/plain": [
       "[1, 1, 2, 3, 4]"
      ]
     },
     "execution_count": 74,
     "metadata": {},
     "output_type": "execute_result"
    }
   ],
   "source": [
    "w = v.copy()\n",
    "w[:5]"
   ]
  },
  {
   "cell_type": "markdown",
   "id": "ddf0bf24",
   "metadata": {},
   "source": [
    "What is the following code doing?\n",
    "\n",
    "<p style=\"color:red\">Your answer here:</p>"
   ]
  },
  {
   "cell_type": "code",
   "execution_count": 75,
   "id": "6ace5352",
   "metadata": {},
   "outputs": [
    {
     "name": "stdout",
     "output_type": "stream",
     "text": [
      "CPU times: user 1.39 s, sys: 85.4 ms, total: 1.48 s\n",
      "Wall time: 1.48 s\n"
     ]
    }
   ],
   "source": [
    "%%time\n",
    "for i in range(len(w)):\n",
    "    w[i] = 1/w[i]"
   ]
  },
  {
   "cell_type": "markdown",
   "id": "6807c891",
   "metadata": {},
   "source": [
    "If A is a NumPy array, you can compute the reciprocal of all of its entries by using the command 1/A.  Fill in the following code to make a NumPy array $[1,1,2,3,...,10^7-1]$."
   ]
  },
  {
   "cell_type": "code",
   "execution_count": 1,
   "id": "ffab1935",
   "metadata": {},
   "outputs": [],
   "source": [
    "# It's okay to use multiple lines.\n",
    "A = ..."
   ]
  },
  {
   "cell_type": "markdown",
   "id": "d3d1b7ef",
   "metadata": {},
   "source": [
    "Now time how long it takes to compute the reciprocal of each entry.  Use the vectorized operation (don't use any loops)."
   ]
  },
  {
   "cell_type": "code",
   "execution_count": null,
   "id": "f89ecc1c",
   "metadata": {},
   "outputs": [],
   "source": [
    "%%time"
   ]
  },
  {
   "cell_type": "markdown",
   "id": "e0c7e84e",
   "metadata": {},
   "source": [
    "How do the times compare, for the loop version (in a list) vs the vectorized NumPy version?\n",
    "\n",
    "<p style=\"color:red\">Your answer here:</p>"
   ]
  }
 ],
 "metadata": {
  "kernelspec": {
   "display_name": "Python 3",
   "language": "python",
   "name": "python3"
  },
  "language_info": {
   "codemirror_mode": {
    "name": "ipython",
    "version": 3
   },
   "file_extension": ".py",
   "mimetype": "text/x-python",
   "name": "python",
   "nbconvert_exporter": "python",
   "pygments_lexer": "ipython3",
   "version": "3.8.8"
  }
 },
 "nbformat": 4,
 "nbformat_minor": 5
}

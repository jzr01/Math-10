{
 "cells": [
  {
   "cell_type": "markdown",
   "id": "e0d0f8dc",
   "metadata": {},
   "source": [
    "# UCI Math 10, Fall 2021\n",
    "\n",
    "# Homework 1: Getting Started with Python\n",
    "\n",
    "To get full credit on this (and every) homework, the notebook needs to be well-organized, containing all these cells it started with, and only what is needed for you to answer the questions.\n",
    "\n",
    "You may submit this homework in a group of 1-3 total students.\n",
    "\n",
    "**Suggestion**.  Make a copy of this notebook, do your work in the copy, and then put your final answers in the original.\n",
    "\n",
    "**Due date**.  Due at 11:30am on Friday of Week 1, October 1st.\n",
    "\n",
    "<p style=\"font-size:20px; color:blue; font-weight:bold\">Question 0:</p>\n",
    "\n",
    "Name(s): Zhengran Ji\n",
    "\n",
    "UCI ID(s): 87537895"
   ]
  },
  {
   "cell_type": "markdown",
   "id": "e4ef4aeb",
   "metadata": {},
   "source": [
    "<p style=\"font-size:20px; color:blue; font-weight:bold\">Question 1:</p>\n",
    "\n",
    "Request a free [Streamlit cloud community account](https://forms.streamlit.io/cloud-sign-up).  You can put \"Student\" in the Job title section, and use your UCI email address.\n",
    "\n",
    "<p style=\"color:red;\">Write your name(s) here to indicate that you have requested an account (each individual student must request one account):Zhengran Ji"
   ]
  },
  {
   "cell_type": "markdown",
   "id": "7b443fe9",
   "metadata": {},
   "source": [
    "<p style=\"font-size:20px; color:blue; font-weight:bold\">Question 2:</p>\n",
    "\n",
    "Sign up for a free [GitHub account](https://github.com/). (UCI has their own GitHub, but we will not use the UCI GitHub, instead we will use the general public GitHub.)\n",
    "\n",
    "<p style=\"color:red;\">Put a link to your GitHub accounts (each individual student must have an account):\n",
    "  \n",
    "Make sure the link is clickable, like this [Chris Davis's GitHub page](https://github.com/ChristopherDavisUCI).  (If you want, you can use html to have the link display above in the red part, but it's probably easier to leave the red part, i.e., to go past the closing `</p>` tag, and then use Markdown syntax for a hyperlink, like this `[display text](url)`"
   ]
  },
  {
   "cell_type": "markdown",
   "id": "60078a8a",
   "metadata": {},
   "source": [
    "[Zhengran Ji's page](https://github.com/jzr01)"
   ]
  },
  {
   "cell_type": "markdown",
   "id": "be0c018d",
   "metadata": {},
   "source": [
    "<p style=\"font-size:20px; color:blue; font-weight:bold\">Question 3:</p>\n",
    "\n",
    "Say \"Hi\" in the \"Hi\" thread on Ed Discussion.  (If you already did that before seeing this homework, then you can just skip this question.)"
   ]
  },
  {
   "cell_type": "markdown",
   "id": "dc1d1434",
   "metadata": {},
   "source": [
    "<p style=\"font-size:20px; color:blue; font-weight:bold\">Question 4:</p>\n",
    "For each of the following data types in Python, list one possible advantage of that data type over a list.\n",
    "\n",
    "* tuple\n",
    "* set\n",
    "* range\n",
    "* numpy array\n",
    "\n",
    "<p style=\"color:red;\">Put your answers here:</p>"
   ]
  },
  {
   "cell_type": "markdown",
   "id": "55395ea3",
   "metadata": {},
   "source": [
    "1. Tuple is a data structure that is not liable to change after created which you can use to store some data that you don't want to change. Also, it can be put into a set.\n",
    "2. Set is a data structure that has no orders and no repeated elements, so if you want to create a data structure that store unique values, you can use set.\n",
    "3. One of the advantage for range is that when range is create it does not occupioed the computer memory.\n",
    "4. array is the only data structure can be reshaped through function, and it can has multi-dimensions."
   ]
  },
  {
   "cell_type": "markdown",
   "id": "03baf284",
   "metadata": {},
   "source": [
    "<p style=\"font-size:20px; color:blue; font-weight:bold\">Question 5:</p>\n",
    "\n",
    "Describe in as much detail as you can, what the following error is referring to.\n",
    "\n",
    "<p style=\"color:red;\">Put your answer here:</p>"
   ]
  },
  {
   "cell_type": "markdown",
   "id": "22aa2475",
   "metadata": {},
   "source": [
    "The element of a set cannot be a set, it must be immutable. "
   ]
  },
  {
   "cell_type": "code",
   "execution_count": 1,
   "id": "2e3152cc",
   "metadata": {},
   "outputs": [
    {
     "ename": "TypeError",
     "evalue": "unhashable type: 'set'",
     "output_type": "error",
     "traceback": [
      "\u001b[1;31m---------------------------------------------------------------------------\u001b[0m",
      "\u001b[1;31mTypeError\u001b[0m                                 Traceback (most recent call last)",
      "\u001b[1;32m<ipython-input-1-6821b33518f5>\u001b[0m in \u001b[0;36m<module>\u001b[1;34m\u001b[0m\n\u001b[0;32m      3\u001b[0m \u001b[0ma3\u001b[0m \u001b[1;33m=\u001b[0m \u001b[1;33m(\u001b[0m\u001b[1;36m5\u001b[0m\u001b[1;33m,\u001b[0m\u001b[1;36m9\u001b[0m\u001b[1;33m,\u001b[0m\u001b[1;36m2\u001b[0m\u001b[1;33m)\u001b[0m\u001b[1;33m\u001b[0m\u001b[1;33m\u001b[0m\u001b[0m\n\u001b[0;32m      4\u001b[0m \u001b[1;33m\u001b[0m\u001b[0m\n\u001b[1;32m----> 5\u001b[1;33m \u001b[1;32mfor\u001b[0m \u001b[0mx\u001b[0m \u001b[1;32min\u001b[0m \u001b[1;33m{\u001b[0m\u001b[0ma1\u001b[0m\u001b[1;33m,\u001b[0m\u001b[0ma2\u001b[0m\u001b[1;33m,\u001b[0m\u001b[0ma3\u001b[0m\u001b[1;33m}\u001b[0m\u001b[1;33m:\u001b[0m\u001b[1;33m\u001b[0m\u001b[1;33m\u001b[0m\u001b[0m\n\u001b[0m\u001b[0;32m      6\u001b[0m     \u001b[0mprint\u001b[0m\u001b[1;33m(\u001b[0m\u001b[1;34m\"Math 10\"\u001b[0m\u001b[1;33m)\u001b[0m\u001b[1;33m\u001b[0m\u001b[1;33m\u001b[0m\u001b[0m\n",
      "\u001b[1;31mTypeError\u001b[0m: unhashable type: 'set'"
     ]
    }
   ],
   "source": [
    "a1 = \"Chris\"\n",
    "a2 = {3,1,4,1}\n",
    "a3 = (5,9,2)\n",
    "\n",
    "for x in {a1,a2,a3}:\n",
    "    print(\"Math 10\")"
   ]
  },
  {
   "cell_type": "markdown",
   "id": "7583e942",
   "metadata": {},
   "source": [
    "<p style=\"font-size:20px; color:blue; font-weight:bold\">Question 6:</p>\n",
    "Write a function replace_elts(A) which takes as input a two-dimensional NumPy array A, and as output returns a NumPy array of the same shape, but where the entries less than 10 in A have been replaced by -2."
   ]
  },
  {
   "cell_type": "code",
   "execution_count": 7,
   "id": "9a2a03ee",
   "metadata": {},
   "outputs": [],
   "source": [
    "# Example\n",
    "import numpy as np"
   ]
  },
  {
   "cell_type": "code",
   "execution_count": 6,
   "id": "cacedd09",
   "metadata": {},
   "outputs": [
    {
     "data": {
      "text/plain": [
       "array([[14,  5,  9, 18,  0, 17,  7, 18, 13, 17],\n",
       "       [ 1, 10,  6,  3, 10,  8,  5,  9,  6,  1],\n",
       "       [ 7,  4,  7, 17,  3,  4,  8,  4, 14,  5],\n",
       "       [17, 10,  6, 11, 11,  9,  8, 19, 15,  6]], dtype=int64)"
      ]
     },
     "execution_count": 6,
     "metadata": {},
     "output_type": "execute_result"
    }
   ],
   "source": [
    "rng = np.random.default_rng()\n",
    "A = np.random.default_rng().integers(0,20,size=(4,10))\n",
    "A"
   ]
  },
  {
   "cell_type": "code",
   "execution_count": 8,
   "id": "eea48847",
   "metadata": {},
   "outputs": [],
   "source": [
    "def replace_elts(A):\n",
    "    for i in range(len(A)):\n",
    "        for j in range(len(A[i,:])):\n",
    "            if A[i,j] < 10:\n",
    "                A[i,j] = -2\n",
    "    return A"
   ]
  },
  {
   "cell_type": "code",
   "execution_count": 9,
   "id": "0199c83e",
   "metadata": {},
   "outputs": [
    {
     "data": {
      "text/plain": [
       "array([[14, -2, -2, 18, -2, 17, -2, 18, 13, 17],\n",
       "       [-2, 10, -2, -2, 10, -2, -2, -2, -2, -2],\n",
       "       [-2, -2, -2, 17, -2, -2, -2, -2, 14, -2],\n",
       "       [17, 10, -2, 11, 11, -2, -2, 19, 15, -2]], dtype=int64)"
      ]
     },
     "execution_count": 9,
     "metadata": {},
     "output_type": "execute_result"
    }
   ],
   "source": [
    "replace_elts(A)"
   ]
  },
  {
   "cell_type": "markdown",
   "id": "2603450f",
   "metadata": {},
   "source": [
    "<p style=\"font-size:20px; color:blue; font-weight:bold\">Question 7:</p>\n",
    "\n",
    "Write a function `make_array(m,n)` that takes as input two positive integers m and n, and as output returns an $m \\times n$ NumPy array which is 0, 1, ..., n-1 in the top row, which is 1, 2, ..., n in the next row, and which is m-1, ..., m+n-2 in the bottom row.\n",
    "\n",
    "More details: \n",
    "* Then Use `np.zeros` to create an initial array of all zeros.  \n",
    "* Look at the documentation for np.zeros and provide an argument so that the array holds 8-bit integers.  (It may be easier to use Google to figure out how to specify 8-bit integers in NumPy.  Don't be intimidated if you find writing you don't understand... skim through that writing and try to figure out how to make 8-bit integers.  Don't use unsigned integers.)\n",
    "* For actually filling numbers into the array, use for loops (maybe nested for loops, or maybe one for loop and one range)."
   ]
  },
  {
   "cell_type": "code",
   "execution_count": 2,
   "id": "965de470",
   "metadata": {},
   "outputs": [],
   "source": [
    "# Example\n",
    "import numpy as np"
   ]
  },
  {
   "cell_type": "code",
   "execution_count": 10,
   "id": "082cdf27",
   "metadata": {},
   "outputs": [],
   "source": [
    "def make_array(row,column):\n",
    "    A = np.zeros((row,column))\n",
    "    for i in range(row):\n",
    "        A[i,0] = i\n",
    "        for j in range(1,column):\n",
    "            A[i,j]  = A[i,0]+j\n",
    "    return A"
   ]
  },
  {
   "cell_type": "code",
   "execution_count": 11,
   "id": "f1c8ed36",
   "metadata": {},
   "outputs": [
    {
     "data": {
      "text/plain": [
       "array([[0., 1., 2., 3., 4.],\n",
       "       [1., 2., 3., 4., 5.],\n",
       "       [2., 3., 4., 5., 6.]])"
      ]
     },
     "execution_count": 11,
     "metadata": {},
     "output_type": "execute_result"
    }
   ],
   "source": [
    "make_array(3,5)"
   ]
  },
  {
   "cell_type": "markdown",
   "id": "64f12ec7",
   "metadata": {},
   "source": [
    "<p style=\"font-size:20px; color:blue; font-weight:bold\">Question 8:</p>\n",
    "\n",
    "Explain the error message from the next cell.\n",
    "\n",
    "<p style=\"color:red;\">Put your answer here:</p>"
   ]
  },
  {
   "cell_type": "markdown",
   "id": "fcd6e32c",
   "metadata": {},
   "source": [
    "1. In this case, Python consider the input z as one tuple. Since our function is defined with 2 inputs, we are missing anothe one."
   ]
  },
  {
   "cell_type": "code",
   "execution_count": 12,
   "id": "dea66940",
   "metadata": {},
   "outputs": [
    {
     "ename": "TypeError",
     "evalue": "make_array() missing 1 required positional argument: 'column'",
     "output_type": "error",
     "traceback": [
      "\u001b[1;31m---------------------------------------------------------------------------\u001b[0m",
      "\u001b[1;31mTypeError\u001b[0m                                 Traceback (most recent call last)",
      "\u001b[1;32m<ipython-input-12-8cdb81507d4a>\u001b[0m in \u001b[0;36m<module>\u001b[1;34m\u001b[0m\n\u001b[0;32m      1\u001b[0m \u001b[0mz\u001b[0m \u001b[1;33m=\u001b[0m \u001b[1;33m(\u001b[0m\u001b[1;36m3\u001b[0m\u001b[1;33m,\u001b[0m\u001b[1;36m5\u001b[0m\u001b[1;33m)\u001b[0m\u001b[1;33m\u001b[0m\u001b[1;33m\u001b[0m\u001b[0m\n\u001b[1;32m----> 2\u001b[1;33m \u001b[0mmake_array\u001b[0m\u001b[1;33m(\u001b[0m\u001b[0mz\u001b[0m\u001b[1;33m)\u001b[0m\u001b[1;33m\u001b[0m\u001b[1;33m\u001b[0m\u001b[0m\n\u001b[0m",
      "\u001b[1;31mTypeError\u001b[0m: make_array() missing 1 required positional argument: 'column'"
     ]
    }
   ],
   "source": [
    "z = (3,5)\n",
    "make_array(z)"
   ]
  },
  {
   "cell_type": "markdown",
   "id": "be2935ec",
   "metadata": {},
   "source": [
    "<p style=\"font-size:20px; color:blue; font-weight:bold\">Question 9:</p>\n",
    "\n",
    "Why does the output of following cell seem to be wrong?\n",
    "\n",
    "<p style=\"color:red;\">Put your answer here:</p>"
   ]
  },
  {
   "cell_type": "markdown",
   "id": "022baed3",
   "metadata": {},
   "source": [
    "1. Since the format of the number is int8, it only gives up 256 numbers which is from -128 to 127. So when the number exceed 127, it will shows as negative number."
   ]
  },
  {
   "cell_type": "code",
   "execution_count": 21,
   "id": "19c5ce9a",
   "metadata": {},
   "outputs": [
    {
     "data": {
      "text/plain": [
       "array([[ 123,  124,  125,  126,  127, -128, -127, -126, -125, -124],\n",
       "       [ 124,  125,  126,  127, -128, -127, -126, -125, -124, -123],\n",
       "       [ 125,  126,  127, -128, -127, -126, -125, -124, -123, -122]],\n",
       "      dtype=int8)"
      ]
     },
     "execution_count": 21,
     "metadata": {},
     "output_type": "execute_result"
    }
   ],
   "source": [
    "A = make_array(126,10)\n",
    "A[-3:] # We're asking for the last three rows of the array A."
   ]
  }
 ],
 "metadata": {
  "kernelspec": {
   "display_name": "Python 3",
   "language": "python",
   "name": "python3"
  },
  "language_info": {
   "codemirror_mode": {
    "name": "ipython",
    "version": 3
   },
   "file_extension": ".py",
   "mimetype": "text/x-python",
   "name": "python",
   "nbconvert_exporter": "python",
   "pygments_lexer": "ipython3",
   "version": "3.8.8"
  }
 },
 "nbformat": 4,
 "nbformat_minor": 5
}

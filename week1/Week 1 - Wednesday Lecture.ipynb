{
 "cells": [
  {
   "cell_type": "markdown",
   "id": "6cb0ea9b",
   "metadata": {},
   "source": [
    "<h1 style=\"color:red\">Remember to start recording</p>\n",
    "\n",
    "# Week 1 Wednesday Lecture\n",
    "## Reminders.  \n",
    "\n",
    "Quiz during discussion section Thursday.  Three questions, each pass/no pass (no partial credit).  Will be a chance to redo later.  Here are the learning objectives for this quiz:\n",
    "* Choose from among list, tuple, range, set, NumPy array, depending on which is an appropriate data type for a particular task.\n",
    "* Extract basic information from a Python error message.\n",
    "* Extract basic information from Python documentation.\n",
    "* Access elements from lists and list-like structures using indexing and slicing.\n",
    "* Create lists and related structures (such as by using range or np.arange, for loops and if statements, or indexing).\n",
    "* Create matrix-like structures (such as by using for loops, nested for loops, or NumPy commands like np.zeros, np.ones, np.full, or reshape).\n",
    "* Determine the result of executing code by reading through the code step-by-step.\n",
    "\n",
    "Homework 1 due Friday at 11:30am as an online submission.  The instructions for the Streamlit question have changed slightly.  (See my Tuesday email or the assignment page or the Ed Discussion thread.)"
   ]
  },
  {
   "cell_type": "markdown",
   "id": "77fb2cbb",
   "metadata": {},
   "source": [
    "## The best way to search in a list is to use the `in` operator.  How could we instead search in a list using a for loop?\n",
    "\n",
    "Define a function `search_list` which takes as input a list and an element, and as output returns `True` if the element is in the list, and returns `False` otherwise.  You must use a for loop (do not use the `in` command)."
   ]
  },
  {
   "cell_type": "code",
   "execution_count": 7,
   "id": "6a81cb20",
   "metadata": {},
   "outputs": [],
   "source": [
    "def search_list(my_list,i):\n",
    "    ans = False\n",
    "    for element in my_list:\n",
    "        if element == i:\n",
    "            ans = True\n",
    "    return ans"
   ]
  },
  {
   "cell_type": "code",
   "execution_count": 8,
   "id": "a167de11",
   "metadata": {},
   "outputs": [],
   "source": [
    "def search_list1(my_list,i):\n",
    "    if i in my_list:\n",
    "        return True\n",
    "    else:\n",
    "        return False"
   ]
  },
  {
   "cell_type": "markdown",
   "id": "9bd55172",
   "metadata": {},
   "source": [
    "Make the list `[0,4,8,12,...,10**6 - 4]` and call the result `my_list`\n",
    "\n",
    "Using `%%timeit`, time how long it takes Python to check if 0 is in the list, and next time how long it takes to check if 1 is in the list.  Why do you think these numbers are so different?  How do these numbers compare between the `in` operator and our `search_list` function?"
   ]
  },
  {
   "cell_type": "code",
   "execution_count": 12,
   "id": "adba0686",
   "metadata": {},
   "outputs": [
    {
     "name": "stdout",
     "output_type": "stream",
     "text": [
      "981 ns ± 66.4 ns per loop (mean ± std. dev. of 7 runs, 1000000 loops each)\n"
     ]
    }
   ],
   "source": [
    "%%timeit\n",
    "search_list([0,4,8,12,...,10**6 - 4],0)"
   ]
  },
  {
   "cell_type": "code",
   "execution_count": 13,
   "id": "ed8bbb3f",
   "metadata": {},
   "outputs": [
    {
     "name": "stdout",
     "output_type": "stream",
     "text": [
      "154 ns ± 18.9 ns per loop (mean ± std. dev. of 7 runs, 10000000 loops each)\n"
     ]
    }
   ],
   "source": [
    "%%timeit\n",
    "search_list1([0,4,8,12,...,10**7 - 4],0)"
   ]
  },
  {
   "cell_type": "markdown",
   "id": "d05200f0",
   "metadata": {},
   "source": [
    "## set vs list\n",
    "Name three advantages of a list over a set:\n",
    "* repeated element\n",
    "* element can be mutable in list\n",
    "* we can use index method in list\n",
    "\n",
    "One of the main goals of this notebook is to see a big advantage of a set over a list."
   ]
  },
  {
   "cell_type": "markdown",
   "id": "67776d55",
   "metadata": {},
   "source": [
    "## Search speed"
   ]
  },
  {
   "cell_type": "markdown",
   "id": "714b2db8",
   "metadata": {},
   "source": [
    "Convert the list to a set.  In a different cell (not the same one with the conversion), time how long it takes to check if 1 is in the set.  Do the same thing for a NumPy array.  Do the same thing for a tuple.  Do the same thing for a range.  (I don't think you can convert from a list to a range, so you will need to make the correct range \"by hand\".)"
   ]
  },
  {
   "cell_type": "code",
   "execution_count": 20,
   "id": "a5cd0e1c",
   "metadata": {},
   "outputs": [],
   "source": [
    "import numpy as np"
   ]
  },
  {
   "cell_type": "code",
   "execution_count": 15,
   "id": "c08328a7",
   "metadata": {},
   "outputs": [
    {
     "name": "stdout",
     "output_type": "stream",
     "text": [
      "96.5 ns ± 0.943 ns per loop (mean ± std. dev. of 7 runs, 10000000 loops each)\n"
     ]
    }
   ],
   "source": [
    "%%timeit\n",
    "1 in [0,4,8,12,...,10**6 - 4]"
   ]
  },
  {
   "cell_type": "code",
   "execution_count": 16,
   "id": "01faf144",
   "metadata": {},
   "outputs": [
    {
     "name": "stdout",
     "output_type": "stream",
     "text": [
      "35.4 ns ± 0.41 ns per loop (mean ± std. dev. of 7 runs, 10000000 loops each)\n"
     ]
    }
   ],
   "source": [
    "%%timeit\n",
    "1 in {0,4,8,12,...,10**6 - 4}"
   ]
  },
  {
   "cell_type": "code",
   "execution_count": 17,
   "id": "8da966b2",
   "metadata": {},
   "outputs": [
    {
     "name": "stdout",
     "output_type": "stream",
     "text": [
      "96.2 ns ± 3.73 ns per loop (mean ± std. dev. of 7 runs, 10000000 loops each)\n"
     ]
    }
   ],
   "source": [
    "%%timeit\n",
    "1 in (0,4,8,12,...,10**6 - 4)"
   ]
  },
  {
   "cell_type": "code",
   "execution_count": 21,
   "id": "5150928b",
   "metadata": {},
   "outputs": [
    {
     "name": "stdout",
     "output_type": "stream",
     "text": [
      "4.24 µs ± 34.1 ns per loop (mean ± std. dev. of 7 runs, 100000 loops each)\n"
     ]
    }
   ],
   "source": [
    "%%timeit\n",
    "1 in np.array([0,4,8,12,...,10**6 - 4])"
   ]
  },
  {
   "cell_type": "code",
   "execution_count": 35,
   "id": "6ee36a30",
   "metadata": {},
   "outputs": [
    {
     "name": "stdout",
     "output_type": "stream",
     "text": [
      "280 ns ± 2.21 ns per loop (mean ± std. dev. of 7 runs, 1000000 loops each)\n"
     ]
    }
   ],
   "source": [
    "%%timeit\n",
    "1 in range(0,10**6,4)"
   ]
  },
  {
   "cell_type": "markdown",
   "id": "b5a04143",
   "metadata": {},
   "source": [
    "The searching time in Python for different data type is (short to long):\n",
    "set, range, array, list, tuple."
   ]
  },
  {
   "cell_type": "markdown",
   "id": "342ee0e3",
   "metadata": {},
   "source": [
    "## Efficiency for vectorized operations in NumPy"
   ]
  },
  {
   "cell_type": "markdown",
   "id": "75f1eb2c",
   "metadata": {},
   "source": [
    "Make a list and a NumPy array corresponding to `range(10**7)`. Go through and replace all the odd-indexed entries by their reciprocals, so for example, the resulting list would be `[0,1/1,2,1/3,4,1/5,...]`, with the fractions displayed as decimal approximations.  How long does this process take in standard Python vs in NumPy?  Use the `%%time` command, rather than the `%%timeit` command.  (I originally made a mistake and used the `%time` command, but that only times one single line, not the whole cell.)\n",
    "\n",
    "For the NumPy array, make the datatype a float.  (If NumPy thinks the entries are of data type int, and you take their reciprocal, you will get many 0s.)"
   ]
  },
  {
   "cell_type": "code",
   "execution_count": 26,
   "id": "a5bfb30c",
   "metadata": {},
   "outputs": [],
   "source": [
    "my_list = list(range(10**7))\n",
    "my_array = np.array(my_list)"
   ]
  },
  {
   "cell_type": "code",
   "execution_count": 36,
   "id": "cfb6a230",
   "metadata": {},
   "outputs": [
    {
     "name": "stdout",
     "output_type": "stream",
     "text": [
      "Wall time: 1.34 s\n"
     ]
    }
   ],
   "source": [
    "%%time\n",
    "for i in range(len(my_list)):\n",
    "    if i % 2 == 1:\n",
    "        my_list[i] = 1/i"
   ]
  },
  {
   "cell_type": "code",
   "execution_count": 41,
   "id": "44fc4cf6",
   "metadata": {},
   "outputs": [
    {
     "name": "stdout",
     "output_type": "stream",
     "text": [
      "Wall time: 24.9 ms\n"
     ]
    }
   ],
   "source": [
    "%%time\n",
    "my_array[1::2] = 1/my_array[1::2]"
   ]
  }
 ],
 "metadata": {
  "kernelspec": {
   "display_name": "Python 3",
   "language": "python",
   "name": "python3"
  },
  "language_info": {
   "codemirror_mode": {
    "name": "ipython",
    "version": 3
   },
   "file_extension": ".py",
   "mimetype": "text/x-python",
   "name": "python",
   "nbconvert_exporter": "python",
   "pygments_lexer": "ipython3",
   "version": "3.8.8"
  }
 },
 "nbformat": 4,
 "nbformat_minor": 5
}
